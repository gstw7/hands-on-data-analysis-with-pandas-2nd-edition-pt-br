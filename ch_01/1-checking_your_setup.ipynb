{
 "cells": [
  {
   "cell_type": "markdown",
   "metadata": {},
   "source": [
    "## Verificando seu ambiente\n",
    "\n",
    "Execute este notebook para garantir que seu ambiente esteja configurado corretamente. Certifique-se de iniciar o Jupyter de dentro do ambiente virtual."
   ]
  },
  {
   "cell_type": "code",
   "execution_count": 1,
   "metadata": {},
   "outputs": [],
   "source": [
    "import sys\n",
    "from os import path\n",
    "sys.path.append(path.abspath('..'))"
   ]
  },
  {
   "cell_type": "code",
   "execution_count": 2,
   "metadata": {},
   "outputs": [
    {
     "name": "stdout",
     "output_type": "stream",
     "text": [
      "Using Python in /Users/goliveira/Library/Caches/pypoetry/virtualenvs/hands-on-data-analysis-with-pandas-2nd-edi-BuKKwh-Y-py3.10:\n",
      "\u001b[42m[ OK ]\u001b[0m Python is version 3.10.14 (main, Apr 13 2024, 17:13:28) [Clang 15.0.0 (clang-1500.3.9.4)]\n",
      "\n",
      "\u001b[41m[FAIL]\u001b[0m python not installed.\n",
      "\u001b[42m[ OK ]\u001b[0m graphviz\n",
      "\u001b[41m[FAIL]\u001b[0m imbalanced_learn not installed.\n",
      "\u001b[42m[ OK ]\u001b[0m ipympl\n",
      "\u001b[42m[ OK ]\u001b[0m numpy\n",
      "\u001b[42m[ OK ]\u001b[0m pandas\n",
      "\u001b[42m[ OK ]\u001b[0m sklearn\n",
      "\u001b[42m[ OK ]\u001b[0m scipy\n",
      "\u001b[42m[ OK ]\u001b[0m seaborn\n",
      "\u001b[42m[ OK ]\u001b[0m sqlalchemy\n",
      "\u001b[42m[ OK ]\u001b[0m statsmodels\n",
      "\u001b[42m[ OK ]\u001b[0m wheel\n",
      "\u001b[42m[ OK ]\u001b[0m requests\n",
      "\u001b[42m[ OK ]\u001b[0m stock_analysis\n",
      "\u001b[41m[FAIL]\u001b[0m visual_aids @ file:///Users/goliveira/Documents/FIAP/Hands_On_Data_Analysis_with_Pandas_2nd_edition_pt_br/visual_aids not installed.\n",
      "\u001b[42m[ OK ]\u001b[0m ml_utils\n",
      "\u001b[42m[ OK ]\u001b[0m login_attempt_simulator\n"
     ]
    }
   ],
   "source": [
    "from src.check_environment import run_checks\n",
    "run_checks()"
   ]
  },
  {
   "cell_type": "markdown",
   "metadata": {},
   "source": [
    "<hr>\n",
    "<div style=\"overflow: hidden; margin-bottom: 10px;\">\n",
    "    <div style=\"float: right;\">\n",
    "        <a href=\"./python_101.ipynb\">\n",
    "            <button>Python 101 &#8594;</button>\n",
    "        </a>\n",
    "    </div>\n",
    "</div>\n",
    "<hr>"
   ]
  }
 ],
 "metadata": {
  "kernelspec": {
   "display_name": "Python 3",
   "language": "python",
   "name": "python3"
  },
  "language_info": {
   "codemirror_mode": {
    "name": "ipython",
    "version": 3
   },
   "file_extension": ".py",
   "mimetype": "text/x-python",
   "name": "python",
   "nbconvert_exporter": "python",
   "pygments_lexer": "ipython3",
   "version": "3.10.14"
  }
 },
 "nbformat": 4,
 "nbformat_minor": 4
}
