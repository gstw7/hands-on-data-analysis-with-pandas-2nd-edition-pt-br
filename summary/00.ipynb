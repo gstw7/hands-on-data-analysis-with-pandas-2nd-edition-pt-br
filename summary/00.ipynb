{
 "cells": [
  {
   "cell_type": "markdown",
   "metadata": {},
   "source": [
    "# Análises de Dados com Pandas\n",
    "\n",
    "## Sobre os dados\n",
    "Neste notebook, usaremos dados meteorológicos diários retirados da [API do National Centers for Environmental Information (NCEI)](https://www.ncdc.noaa.gov/cdo-web/webservices/v2). O notebook [`0-weather_data_collection.ipynb`](./0-weather_data_collection.ipynb) contém o processo seguido para coletar os dados. Consulte a [documentação](https://www1.ncdc.noaa.gov/pub/data/cdo/documentation/GHCND_documentation.pdf) do conjunto de dados para obter informações sobre os campos.\n",
    "\n",
    "*Nota: O NCEI faz parte da National Oceanic and Atmospheric Administration (NOAA) e, como você pode ver pela URL da API, este recurso foi criado quando o NCEI era chamado de NCDC. Caso a URL deste recurso mude no futuro, você pode procurar por \"API meteorológica NCEI\" para encontrar a nova URL.*\n",
    "\n",
    "## Contexto sobre os dados meteorológicos\n",
    "\n",
    "Significados dos dados:\n",
    "- `AWND`: velocidade média do vento\n",
    "- `PRCP`: precipitação em milímetros\n",
    "- `SNOW`: queda de neve em milímetros\n",
    "- `SNWD`: profundidade de neve em milímetros\n",
    "- `TMAX`: temperatura máxima diária em Celsius\n",
    "- `TMIN`: temperatura mínima diária em Celsius"
   ]
  },
  {
   "cell_type": "code",
   "execution_count": null,
   "metadata": {},
   "outputs": [],
   "source": [
    "import pandas as pd"
   ]
  },
  {
   "cell_type": "code",
   "execution_count": null,
   "metadata": {},
   "outputs": [],
   "source": [
    "weather = pd.read_csv('data/nyc_weather_2018.csv')\n",
    "weather.head()"
   ]
  },
  {
   "cell_type": "code",
   "execution_count": null,
   "metadata": {},
   "outputs": [],
   "source": [
    "station_info = pd.read_csv('data/weather_stations.csv')\n",
    "station_info.head()"
   ]
  },
  {
   "cell_type": "code",
   "execution_count": null,
   "metadata": {},
   "outputs": [],
   "source": [
    "fb = pd.read_csv('data/fb_2018.csv', index_col='date', parse_dates=True)\n",
    "fb.head()"
   ]
  },
  {
   "cell_type": "markdown",
   "metadata": {},
   "source": [
    "### Dados Meterológicos"
   ]
  },
  {
   "cell_type": "code",
   "execution_count": null,
   "metadata": {},
   "outputs": [],
   "source": []
  },
  {
   "cell_type": "markdown",
   "metadata": {},
   "source": [
    "### Dados Ações Facebook"
   ]
  },
  {
   "cell_type": "code",
   "execution_count": null,
   "metadata": {},
   "outputs": [],
   "source": []
  }
 ],
 "metadata": {
  "kernelspec": {
   "display_name": "Python 3",
   "language": "python",
   "name": "python3"
  },
  "language_info": {
   "name": "python",
   "version": "3.10.14"
  }
 },
 "nbformat": 4,
 "nbformat_minor": 2
}
