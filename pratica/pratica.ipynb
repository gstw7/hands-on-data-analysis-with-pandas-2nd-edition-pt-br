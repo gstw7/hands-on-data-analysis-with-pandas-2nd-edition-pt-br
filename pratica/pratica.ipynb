{
 "cells": [
  {
   "cell_type": "markdown",
   "metadata": {},
   "source": [
    "# Notebook prática"
   ]
  },
  {
   "cell_type": "markdown",
   "metadata": {},
   "source": [
    "## Descrição do dataset\n",
    "<a id='description'></a>\n",
    "Fonte:[\n",
    "default of credit card clients Data Set](https://archive.ics.uci.edu/ml/datasets/default+of+credit+card+clients#)\n",
    "\n",
    "__Dicionário__\n",
    "\n",
    "* **ID**  - Código de identificação do cliente\n",
    "* **LIMIT_BAL** - Montante do crédito concedido (em dólar): inclui o crédito individual ao consumidor e o crédito à família (complementar).\n",
    "* **SEX** - Sexo (1 = Masculino, 2 = Feminino)     \n",
    "* **EDUCATION** - Nível de escolaridade (1 = pós-graduação; 2 = universidade; 3 = ensino médio; 4 = outros)\n",
    "* **MARRIAGE** - Estado civíl (1 = casado; 2 = solteiro; 3 = outros)\n",
    "* **AGE** - idade em anos     \n",
    "* **PAY_0** - Status de pagamento em Setembro de 2005 (-1 = pagamento devidamente; 1 = atraso no pagamento por um mês; 2 = atraso no pagamento por dois meses; . . .; 8 = atraso no pagamento por oito meses; 9 = atraso no pagamento por nove meses e acima).  \n",
    "* **PAY_2** - Status de pagamento em Agosto de 2005   \n",
    "* **PAY_3** - Status de pagamento em Julho de 2005   \n",
    "* **PAY_4** - Status de pagamento em Junho de 2005   \n",
    "* **PAY_5** - Status de pagamento em Maio de 2005   \n",
    "* **PAY_6** - Status de pagamento em Abril de 2005      \n",
    "* **BILL_AMT1** - Valor do extrato da fatura (em dólar) em Setembro de 2005\n",
    "* **BILL_AMT2** - Valor do extrato da fatura (em dólar) em Agosto de 2005\n",
    "* **BILL_AMT3** - Valor do extrato da fatura (em dólar) em Julho de 2005\n",
    "* **BILL_AMT4** - Valor do extrato da fatura (em dólar) em Junho de 2005\n",
    "* **BILL_AMT5** - Valor do extrato da fatura (em dólar) em Maio de 2005\n",
    "* **BILL_AMT6** - Valor do extrato da fatura (em dólar) em Abril de 2005\n",
    "* **PAY_AMT1** - Valor do pagamento anterior (em dólar)  em Setembro de 2005\n",
    "* **PAY_AMT2** - Valor do pagamento anterior (em dólar)  em Agosto de 2005\n",
    "* **PAY_AMT3** - Valor do pagamento anterior (em dólar)  em Julho de 2005\n",
    "* **PAY_AMT4** - Valor do pagamento anterior (em dólar)  em Junho de 2005\n",
    "* **PAY_AMT5** - Valor do pagamento anterior (em dólar)  em Maio de 2005\n",
    "* **PAY_AMT6** - Valor do pagamento anterior (em dólar)  em Abril de 2005 \n",
    "* **default payment next month** - (0=Não | 1=Sim) Se o cliente é default no mês seguinte (Outubro)"
   ]
  },
  {
   "cell_type": "markdown",
   "metadata": {},
   "source": [
    "## Imports"
   ]
  },
  {
   "cell_type": "code",
   "execution_count": null,
   "metadata": {
    "ExecuteTime": {
     "end_time": "2020-05-27T15:19:39.898177Z",
     "start_time": "2020-05-27T15:19:39.876408Z"
    }
   },
   "outputs": [],
   "source": [
    "import numpy as np\n",
    "import pandas as pd\n",
    "import seaborn as sns\n",
    "import matplotlib.pyplot as plt\n",
    "import os\n",
    "\n",
    "pd.set_option('display.max_columns', None)\n",
    "\n",
    "customPal = sns.diverging_palette(100, 0, 74, 39, 19, 2, center='dark')\n",
    "cmap = sns.diverging_palette(\n",
    "    0, 100, 74, 39, 19, 25, center='light', as_cmap=True)\n",
    "sns.set_theme(style=\"white\", palette='RdYlGn_r', font_scale=1.25)"
   ]
  },
  {
   "cell_type": "markdown",
   "metadata": {},
   "source": [
    "## Funções"
   ]
  },
  {
   "cell_type": "code",
   "execution_count": null,
   "metadata": {
    "ExecuteTime": {
     "end_time": "2020-05-27T15:19:39.919534Z",
     "start_time": "2020-05-27T15:19:39.916062Z"
    }
   },
   "outputs": [],
   "source": []
  },
  {
   "cell_type": "markdown",
   "metadata": {},
   "source": [
    "## Sumário\n",
    "\n",
    "1. [Descrição do dataset](#description)\n",
    "2. [Ingestão dos dados](#ingestion)\n",
    "3. [Análise expoloratória inicial](#eda)\n",
    "4. [Análise univariada](#uda)\n",
    "5. [Análise multivariada](#mda)\n",
    "6. [Análise de inconsistências](#incon)\n",
    "7. [Feature Engineering](#feateng)\n"
   ]
  },
  {
   "cell_type": "markdown",
   "metadata": {},
   "source": [
    "## Ingestão dos dados\n",
    "\n",
    "<a id='ingestion'></a>"
   ]
  },
  {
   "cell_type": "code",
   "execution_count": null,
   "metadata": {
    "ExecuteTime": {
     "end_time": "2020-05-27T15:19:41.844930Z",
     "start_time": "2020-05-27T15:19:40.228347Z"
    }
   },
   "outputs": [],
   "source": [
    "PATH = 'data/'\n",
    "FILENAME = 'default of credit card clients.xls'\n",
    "\n",
    "df = pd.read_excel(os.path.join(PATH, FILENAME), header=[1])\n",
    "df.head(2)"
   ]
  },
  {
   "cell_type": "markdown",
   "metadata": {},
   "source": [
    "## Análise exploratória inicial\n",
    "<a id='eda'></a>"
   ]
  },
  {
   "cell_type": "code",
   "execution_count": null,
   "metadata": {
    "ExecuteTime": {
     "end_time": "2020-05-27T15:19:41.898256Z",
     "start_time": "2020-05-27T15:19:41.846938Z"
    }
   },
   "outputs": [],
   "source": [
    "df.info()"
   ]
  },
  {
   "cell_type": "code",
   "execution_count": null,
   "metadata": {
    "ExecuteTime": {
     "end_time": "2020-05-27T15:19:42.020825Z",
     "start_time": "2020-05-27T15:19:41.901917Z"
    }
   },
   "outputs": [],
   "source": [
    "df.describe()"
   ]
  },
  {
   "cell_type": "markdown",
   "metadata": {},
   "source": [
    "### Valores ausentes"
   ]
  },
  {
   "cell_type": "code",
   "execution_count": null,
   "metadata": {
    "ExecuteTime": {
     "end_time": "2020-05-27T15:19:42.032900Z",
     "start_time": "2020-05-27T15:19:42.023543Z"
    }
   },
   "outputs": [],
   "source": [
    "df.isna().sum()"
   ]
  },
  {
   "cell_type": "markdown",
   "metadata": {},
   "source": [
    "### Duplicados"
   ]
  },
  {
   "cell_type": "code",
   "execution_count": null,
   "metadata": {
    "ExecuteTime": {
     "end_time": "2020-05-27T15:19:42.069810Z",
     "start_time": "2020-05-27T15:19:42.035988Z"
    }
   },
   "outputs": [],
   "source": [
    "print(df.duplicated().sum(), 'valores duplicados')"
   ]
  },
  {
   "cell_type": "markdown",
   "metadata": {},
   "source": [
    "### Variáveis categóricas"
   ]
  },
  {
   "cell_type": "code",
   "execution_count": null,
   "metadata": {
    "ExecuteTime": {
     "end_time": "2020-05-27T15:19:42.078927Z",
     "start_time": "2020-05-27T15:19:42.071364Z"
    }
   },
   "outputs": [],
   "source": [
    "df['SEX'].value_counts()"
   ]
  },
  {
   "cell_type": "code",
   "execution_count": null,
   "metadata": {
    "ExecuteTime": {
     "end_time": "2020-05-27T15:19:42.087804Z",
     "start_time": "2020-05-27T15:19:42.080668Z"
    }
   },
   "outputs": [],
   "source": [
    "df['MARRIAGE'].value_counts()"
   ]
  },
  {
   "cell_type": "code",
   "execution_count": null,
   "metadata": {
    "ExecuteTime": {
     "end_time": "2020-05-27T15:19:42.097862Z",
     "start_time": "2020-05-27T15:19:42.090339Z"
    }
   },
   "outputs": [],
   "source": [
    "df['EDUCATION'].value_counts()"
   ]
  },
  {
   "cell_type": "markdown",
   "metadata": {},
   "source": [
    "### Variáveis numéricas"
   ]
  },
  {
   "cell_type": "code",
   "execution_count": null,
   "metadata": {
    "ExecuteTime": {
     "end_time": "2020-05-27T15:19:42.128427Z",
     "start_time": "2020-05-27T15:19:42.100773Z"
    }
   },
   "outputs": [],
   "source": [
    "df[['AGE', 'LIMIT_BAL']].describe()"
   ]
  },
  {
   "cell_type": "code",
   "execution_count": null,
   "metadata": {
    "ExecuteTime": {
     "end_time": "2020-05-27T15:19:42.187906Z",
     "start_time": "2020-05-27T15:19:42.130053Z"
    }
   },
   "outputs": [],
   "source": [
    "df[['PAY_0', 'PAY_2', 'PAY_3', 'PAY_4', 'PAY_5', 'PAY_6']].describe()"
   ]
  },
  {
   "cell_type": "code",
   "execution_count": null,
   "metadata": {
    "ExecuteTime": {
     "end_time": "2020-05-27T15:19:42.194026Z",
     "start_time": "2020-05-27T15:19:42.189769Z"
    }
   },
   "outputs": [],
   "source": [
    "print('Valores únicos de status de pagamento:', sorted(df['PAY_0'].unique()))"
   ]
  },
  {
   "cell_type": "code",
   "execution_count": null,
   "metadata": {
    "ExecuteTime": {
     "end_time": "2020-05-27T15:19:42.244079Z",
     "start_time": "2020-05-27T15:19:42.196421Z"
    }
   },
   "outputs": [],
   "source": [
    "df[['BILL_AMT1', 'BILL_AMT2', 'BILL_AMT3',\n",
    "    'BILL_AMT4', 'BILL_AMT5', 'BILL_AMT6']].describe()"
   ]
  },
  {
   "cell_type": "code",
   "execution_count": null,
   "metadata": {
    "ExecuteTime": {
     "end_time": "2020-05-27T15:19:42.281532Z",
     "start_time": "2020-05-27T15:19:42.245668Z"
    }
   },
   "outputs": [],
   "source": [
    "df[['PAY_AMT1', 'PAY_AMT2', 'PAY_AMT3', 'PAY_AMT4', 'PAY_AMT5', 'PAY_AMT6']].describe()"
   ]
  },
  {
   "cell_type": "markdown",
   "metadata": {},
   "source": [
    "__Considerações iniciais__\n",
    "* No dataset não há valores missing ou duplicados\n",
    "* As variáveis de status de pagamento (``PAY_0``, ..., ``PAY_6``) possuem valores entre -2 e 8. Fazendo uma busca rápida, descobri que -2 significa que não houve utilização do crédito e 0 signifca uso do crédito rotativo [[1]](https://www.researchgate.net/publication/326171439_Default_Payment_Analysis_of_Credit_Card_Clients).\n",
    "* Valores negativos nas variáveis de extrato da fatura (``BILL_AMT1``, ..., ``BILL_AMT6``) indicam que o cliente pagou acima do valor devido, no entanto, essa hipótese será verificada nas análises posteriores.\n",
    "* As variáveis ``SEX``e ``AGE``estão dentro dos valores normais. A idade dos clientes varia entre 21 e 79 anos e a variável sexo possui apenas as categorias masculino e feminino.   \n",
    "* As variáveis ``EDUCATION``e ``MARRIAGE`` apresentam valores fora das faixas especificadas na base, portanto, esses valores serão agrupados entre as categorias conhecidas.   \n",
    "``EDUCATION`` = 5, 6 e 0 será agrupada na categoria 4   \n",
    "``MARRIAGE`` = 0 será agrupada na categoria 3"
   ]
  },
  {
   "cell_type": "code",
   "execution_count": null,
   "metadata": {
    "ExecuteTime": {
     "end_time": "2020-05-27T15:19:42.289837Z",
     "start_time": "2020-05-27T15:19:42.283016Z"
    }
   },
   "outputs": [],
   "source": [
    "df.loc[df['EDUCATION'].isin([5, 6, 0]), 'EDUCATION'] = 4\n",
    "df.loc[df['MARRIAGE'].isin([0]), 'MARRIAGE'] = 3"
   ]
  },
  {
   "cell_type": "markdown",
   "metadata": {},
   "source": [
    "### Renomeando colunas"
   ]
  },
  {
   "cell_type": "code",
   "execution_count": null,
   "metadata": {
    "ExecuteTime": {
     "end_time": "2020-05-27T15:19:42.297313Z",
     "start_time": "2020-05-27T15:19:42.291159Z"
    }
   },
   "outputs": [],
   "source": [
    "df.rename(columns={'default payment next month': 'y',\n",
    "                   'PAY_0': 'pgto_set',\n",
    "                   'PAY_2': 'pgto_ago',\n",
    "                   'PAY_3': 'pgto_jul',\n",
    "                   'PAY_4': 'pgto_jun',\n",
    "                   'PAY_5': 'pgto_mai',\n",
    "                   'PAY_6': 'pgto_abr',\n",
    "                   'PAY_AMT1': 'pgto_amt_set',\n",
    "                   'PAY_AMT2': 'pgto_amt_ago',\n",
    "                   'PAY_AMT3': 'pgto_amt_jul',\n",
    "                   'PAY_AMT4': 'pgto_amt_jun',\n",
    "                   'PAY_AMT5': 'pgto_amt_mai',\n",
    "                   'PAY_AMT6': 'pgto_amt_abr',\n",
    "                   'BILL_AMT1': 'fatura_set',\n",
    "                   'BILL_AMT2': 'fatura_ago',\n",
    "                   'BILL_AMT3': 'fatura_jul',\n",
    "                   'BILL_AMT4': 'fatura_jun',\n",
    "                   'BILL_AMT5': 'fatura_mai',\n",
    "                   'BILL_AMT6': 'fatura_abr',\n",
    "                   'SEX': 'genero',\n",
    "                   'EDUCATION': 'educacao',\n",
    "                   'LIMIT_BAL': 'limite',\n",
    "                   'AGE': 'idade',\n",
    "                   'MARRIAGE': 'estado_civil'}, inplace=True)"
   ]
  },
  {
   "cell_type": "markdown",
   "metadata": {
    "ExecuteTime": {
     "end_time": "2020-05-14T15:33:39.065525Z",
     "start_time": "2020-05-14T15:33:39.063120Z"
    }
   },
   "source": [
    "## Análise univariada"
   ]
  },
  {
   "cell_type": "markdown",
   "metadata": {},
   "source": [
    "Aqui as variáveis categóricas serão renomeadas para facilitar a interpretação dos gráficos."
   ]
  },
  {
   "cell_type": "code",
   "execution_count": null,
   "metadata": {
    "ExecuteTime": {
     "end_time": "2020-05-27T15:19:42.333995Z",
     "start_time": "2020-05-27T15:19:42.321070Z"
    }
   },
   "outputs": [],
   "source": [
    "df['genero'] = df['genero'].replace({1: 'masculino', 2: 'feminino'})\n",
    "df['educacao'] = df['educacao'].replace(\n",
    "    {1: 'pós-graduação', 2: 'superior', 3: 'ensino médio', 4: 'outros'})\n",
    "df['estado_civil'] = df['estado_civil'].replace(\n",
    "    {1: 'casado', 2: 'solteiro', 3: 'outros'})"
   ]
  },
  {
   "cell_type": "code",
   "execution_count": null,
   "metadata": {
    "ExecuteTime": {
     "end_time": "2020-05-27T15:19:42.357627Z",
     "start_time": "2020-05-27T15:19:42.335297Z"
    }
   },
   "outputs": [],
   "source": [
    "df.head()"
   ]
  },
  {
   "cell_type": "code",
   "execution_count": null,
   "metadata": {
    "ExecuteTime": {
     "end_time": "2020-05-27T15:19:42.367735Z",
     "start_time": "2020-05-27T15:19:42.359380Z"
    }
   },
   "outputs": [],
   "source": [
    "df_pgto = df[['pgto_set', 'pgto_ago', 'pgto_jul',\n",
    "              'pgto_jun', 'pgto_mai', 'pgto_abr']]\n",
    "df_fatura = df[['fatura_set', 'fatura_ago', 'fatura_jul',\n",
    "                'fatura_jun', 'fatura_mai', 'fatura_abr']]\n",
    "df_pgto_amt = df[['pgto_amt_set', 'pgto_amt_ago', 'pgto_amt_jul',\n",
    "                  'pgto_amt_jun', 'pgto_amt_mai', 'pgto_amt_abr']]"
   ]
  },
  {
   "cell_type": "code",
   "execution_count": null,
   "metadata": {},
   "outputs": [],
   "source": [
    "import seaborn as sns\n",
    "import matplotlib.pyplot as plt"
   ]
  },
  {
   "cell_type": "code",
   "execution_count": null,
   "metadata": {},
   "outputs": [],
   "source": [
    "def plot_bars(df, features, n_rows, n_cols, title, figsize):\n",
    "\n",
    "    fig = plt.figure(figsize=figsize)\n",
    "    for i, feat in enumerate(features):\n",
    "        ax = fig.add_subplot(n_rows, n_cols, i+1)\n",
    "        sns.countplot(data=df, x=feat, ax=ax)\n",
    "\n",
    "    fig.suptitle(title)\n",
    "    fig.show()"
   ]
  },
  {
   "cell_type": "code",
   "execution_count": null,
   "metadata": {
    "ExecuteTime": {
     "end_time": "2020-05-27T15:19:42.968263Z",
     "start_time": "2020-05-27T15:19:42.369365Z"
    }
   },
   "outputs": [],
   "source": [
    "plot_bars(df, features=['y', 'genero', 'estado_civil', 'educacao'], n_rows=2, n_cols=2,\n",
    "          title='Variáveis categóricas', figsize=(18, 12))"
   ]
  },
  {
   "cell_type": "code",
   "execution_count": null,
   "metadata": {},
   "outputs": [],
   "source": [
    "def plot_hists(df, features, n_rows, n_cols, title, figsize):\n",
    "\n",
    "    fig = plt.figure(figsize=figsize)\n",
    "    for i, feat in enumerate(features):\n",
    "        ax = fig.add_subplot(n_rows, n_cols, i+1)\n",
    "        sns.histplot(df[feat], bins=20, ax=ax, kde=True)\n",
    "\n",
    "    fig.suptitle(title)\n",
    "    fig.show()"
   ]
  },
  {
   "cell_type": "code",
   "execution_count": null,
   "metadata": {
    "ExecuteTime": {
     "end_time": "2020-05-27T15:19:43.580708Z",
     "start_time": "2020-05-27T15:19:42.980713Z"
    }
   },
   "outputs": [],
   "source": [
    "plot_hists(df, features=['idade', 'limite'], n_rows=2, n_cols=2,\n",
    "           title='Distribuição das variáveis numéricas', figsize=(18, 12))"
   ]
  },
  {
   "cell_type": "code",
   "execution_count": null,
   "metadata": {
    "ExecuteTime": {
     "end_time": "2020-05-27T15:19:44.153414Z",
     "start_time": "2020-05-27T15:19:43.584184Z"
    }
   },
   "outputs": [],
   "source": [
    "fig, ax = plt.subplots(1, 2, figsize=(20, 6), sharey=True)\n",
    "sns.boxplot(x=\"Faturas\", y=\"$ dolar\", data=pd.melt(\n",
    "    df_fatura, var_name='Faturas', value_name='$ dolar'), ax=ax[0])\n",
    "sns.boxplot(x=\"Pagamentos\", y=\"$ dolar\", data=pd.melt(\n",
    "    df_pgto_amt, var_name='Pagamentos', value_name='$ dolar'), ax=ax[1])\n",
    "\n",
    "ax[0].set_xticklabels(ax[0].get_xticklabels(), rotation=90)\n",
    "ax[1].set_xticklabels(ax[1].get_xticklabels(), rotation=90)\n",
    "plt.suptitle('Pagamentos e Faturas')\n",
    "plt.show()"
   ]
  },
  {
   "cell_type": "code",
   "execution_count": null,
   "metadata": {
    "ExecuteTime": {
     "end_time": "2020-05-27T15:19:44.651388Z",
     "start_time": "2020-05-27T15:19:44.155621Z"
    }
   },
   "outputs": [],
   "source": [
    "plt.figure(figsize=(20, 8))\n",
    "sns.countplot(x=\"Pagamentos\", hue=\"status\",\n",
    "              data=pd.melt(df_pgto, var_name='Pagamentos', value_name='status'), palette='RdYlGn_r')\n",
    "plt.title('Status de pagamentos')\n",
    "plt.show()"
   ]
  },
  {
   "cell_type": "markdown",
   "metadata": {},
   "source": [
    "__Considerações da análise univarida__\n",
    "* A base possui 30.000 observações e cada observação corresponde a um cliente diferente sendo 23.364 (77,9%) de clientes que permaneceram em default e 6.636 (22,1%) de clientes que conseguiram honrar seus compromissos de crédito no mês de outubro, ou seja, deixaram de ser inadimplentes;   \n",
    "* Quanto à distribuição de gênero, predomina o gênero feminino com (60,4%);\n",
    "* Quanto à distribuição do nível de escolaridade da base, podemos confirmar que a grande maioria está presente nas faixas mais altas. 84% (24.615) da base tem grau de escolaridade acima do nível _high school_ , equivalente ao ensino médio brasileiro. Apenas 1,5% (468) tem um nível de escolaridade desconhecido ou abaixo do ensino médio.\n",
    "* O estado civíl dos clientes encontra-se balanceado, sendo 15.964 clientes solteiros, 13.659 clientes casados e 377 clientes que provavelmente são divorciados ou viúvos, marcados na categoria _others_ ;\n",
    "* A idade dos clientes está entre 21 e 79 anos, no entanto, 75% da base tem abaixo de 41 anos.\n",
    "* O limite dos clientes varia entre 10.000 e 1.000.000 dólares, no entanto, apenas 25% dos clientes têm limite acima de 240.000 dólares e apenas 1 cliente na base possui o limite máximo.\n",
    "* A maioria da base costuma utilizar predominantemente o crédito rotativo. O crédito rotativo, correspondente ao status de pagamento igual a zero e equivale em média a 52% do status de pagamento da base. Esse status aparece quando o cliente não é capaz de pagar o valor completo da fatura.\n",
    "* A média dos valores das faturas vão aumentando ao longo do tempo. Em abril, as faturas eram em média no valor de 38.871 dólares, já no mês de setembro esse número foi para 51.223. Os valores mais altos foram registrados no mês de Julho, chegando até 1.6 milhão de dólares. Uma hipótese que justifique esse fenômeno é que boa parte dos clientes costumam usar a modalidade do crédito rotativo a medida que não são capazes de pagar o valor total da fatura, sendo assim os juros acrescidos tende a aumentar o valor das faturas dos meses posteriores.\n",
    "* Foram identificadas muitas faturas com valores negativos, a hipótese inicial é de que o cliente tenha pago acima do valor devido.\n",
    "* A média dos valores dos pagamentos oscila entre 4.799 dólares, registrado no mês de maio, até 5.921 dólares, referente ao pagamento mês de agosto.\n"
   ]
  },
  {
   "cell_type": "markdown",
   "metadata": {},
   "source": [
    "## Análise Multivariada\n",
    "<a id='mda'></a>"
   ]
  },
  {
   "cell_type": "code",
   "execution_count": null,
   "metadata": {
    "ExecuteTime": {
     "end_time": "2020-05-27T15:19:46.046095Z",
     "start_time": "2020-05-27T15:19:44.652860Z"
    }
   },
   "outputs": [],
   "source": [
    "num_feat_corr = df.select_dtypes(exclude='object').iloc[:, 1:].corr()\n",
    "mask = np.triu(np.ones_like(num_feat_corr, dtype=bool))\n",
    "plt.figure(figsize=(22, 10))\n",
    "sns.heatmap(num_feat_corr, mask=mask, fmt='.2f', cmap=cmap, annot=True)\n",
    "plt.title('Correlação de Pearson entre as variáveis numéricas')\n",
    "plt.show()"
   ]
  },
  {
   "cell_type": "code",
   "execution_count": null,
   "metadata": {
    "ExecuteTime": {
     "end_time": "2020-05-27T15:19:46.693306Z",
     "start_time": "2020-05-27T15:19:46.047202Z"
    }
   },
   "outputs": [],
   "source": [
    "plt.figure(figsize=(20, 4))\n",
    "corrmat = df.select_dtypes(\n",
    "    exclude='object').iloc[:, 1:].corr(method='spearman')\n",
    "sns.heatmap([corrmat['y']], xticklabels=corrmat.index,\n",
    "            annot=True, fmt='.2f', annot_kws={'size': 14},\n",
    "            cbar=False, center=0, cmap=cmap)\n",
    "plt.title('Correlação pelo método de Spearman')\n",
    "\n",
    "plt.tight_layout()\n",
    "plt.show()"
   ]
  },
  {
   "cell_type": "markdown",
   "metadata": {},
   "source": [
    "__Chi-square__\n",
    "\n",
    "$H_0$ : Variável e target são independentes (Não associadas)   \n",
    "$H_1$: Variável e target não são independentes (São associadas) \n",
    "\n",
    "Resultado:\n",
    "\n",
    "p-valor $\\leq \\alpha$ : Rejeitar a hipótetse nula ($H_0$), há dependencia entre a varável e o target.   \n",
    "p-valor > $\\alpha$: Não há evidencias suficientes para rejeitar $H_0$, variável e target independentes."
   ]
  },
  {
   "cell_type": "code",
   "execution_count": null,
   "metadata": {},
   "outputs": [],
   "source": [
    "from scipy.stats import chi2_contingency\n",
    "\n",
    "\n",
    "def chisquare(data, target, alpha=0.05):\n",
    "\n",
    "    features_cat = data.select_dtypes(exclude=['float', 'int']).columns\n",
    "    for feat in features_cat:\n",
    "        data_crosstab = pd.crosstab(data[feat], data[target], margins=False)\n",
    "        _, p, _, _ = chi2_contingency(data_crosstab)\n",
    "\n",
    "        if p <= alpha:\n",
    "            print(f'Há dependencia entre {feat} e {target}. P-valor: {p}')\n",
    "        else:\n",
    "            print(f'Não há dependencia entre {feat} e {target}. P-valor: {p}')"
   ]
  },
  {
   "cell_type": "code",
   "execution_count": null,
   "metadata": {
    "ExecuteTime": {
     "end_time": "2020-05-27T15:19:46.775384Z",
     "start_time": "2020-05-27T15:19:46.694885Z"
    }
   },
   "outputs": [],
   "source": [
    "chisquare(df, target='y')"
   ]
  },
  {
   "cell_type": "markdown",
   "metadata": {},
   "source": [
    "**Análises mistas**"
   ]
  },
  {
   "cell_type": "code",
   "execution_count": null,
   "metadata": {},
   "outputs": [],
   "source": [
    "def corr_2_cols(df, col1, col2):\n",
    "    res = df.groupby([col1, col2]).size().unstack()\n",
    "    res['frequencia(%)'] = (res[res.columns[1]] /\n",
    "                            (res[res.columns[0]] + res[res.columns[1]]))\n",
    "    return res"
   ]
  },
  {
   "cell_type": "code",
   "execution_count": null,
   "metadata": {
    "ExecuteTime": {
     "end_time": "2020-05-27T15:19:47.077929Z",
     "start_time": "2020-05-27T15:19:46.777813Z"
    }
   },
   "outputs": [],
   "source": [
    "# Criando faixas para variáveis numéricas\n",
    "df['limit_bins'] = pd.qcut(df['limite'], q=10).astype('str')\n",
    "df['idade_bins'] = pd.qcut(df['idade'], q=10).astype('str')\n",
    "df['pgto_amt_set_bins'] = pd.qcut(\n",
    "    df['pgto_amt_set'], q=10, duplicates='drop').astype('str')\n",
    "\n",
    "# Bad rate por variável\n",
    "idade_bins = corr_2_cols(df, df['idade_bins'], df['y'])\n",
    "limit_bins = corr_2_cols(df, df['limit_bins'], df['y'])\n",
    "pgto_amt_set_bins = corr_2_cols(df, df['pgto_amt_set_bins'], df['y'])\n",
    "genero = corr_2_cols(df, df['genero'], df['y']).sort_values('frequencia(%)')\n",
    "educacao = corr_2_cols(df, df['educacao'], df['y']\n",
    "                       ).sort_values('frequencia(%)')\n",
    "estado_civil = corr_2_cols(\n",
    "    df, df['estado_civil'], df['y']).sort_values('frequencia(%)')"
   ]
  },
  {
   "cell_type": "code",
   "execution_count": null,
   "metadata": {
    "ExecuteTime": {
     "end_time": "2020-05-27T15:19:50.808731Z",
     "start_time": "2020-05-27T15:19:47.410928Z"
    }
   },
   "outputs": [],
   "source": [
    "fig, ax = plt.subplots(5, 3, figsize=(32, 36))\n",
    "sns.countplot(x='genero', hue='y', data=df, ax=ax[0, 0], palette=customPal)\n",
    "sns.countplot(x='educacao', hue='y', data=df, ax=ax[0, 1], palette=customPal)\n",
    "sns.countplot(x='estado_civil', hue='y', data=df,\n",
    "              ax=ax[0, 2], palette=customPal)\n",
    "sns.boxplot(x='educacao', y='limite', hue='y',\n",
    "            data=df, ax=ax[1, 0], palette=customPal)\n",
    "sns.boxplot(x='estado_civil', y='limite', hue='y',\n",
    "            data=df, ax=ax[1, 1], palette=customPal)\n",
    "sns.boxplot(x='genero', y='limite', hue='y',\n",
    "            data=df, ax=ax[1, 2], palette=customPal)\n",
    "sns.scatterplot(y='limite', x='pgto_set',  hue='y',\n",
    "                data=df, ax=ax[2, 0], palette=customPal)\n",
    "sns.scatterplot(x='limite', y='idade',  hue='y',\n",
    "                data=df, ax=ax[2, 1], palette=customPal)\n",
    "sns.kdeplot(data=df[df['y'] == 0]['idade'], shade=True,\n",
    "            label='y = 0', color='g', ax=ax[2, 2])\n",
    "sns.kdeplot(data=df[df['y'] == 1]['idade'], shade=True,\n",
    "            label='y = 1', color='r', ax=ax[2, 2])\n",
    "\n",
    "\n",
    "sns.barplot(data=genero, x=genero.index,\n",
    "            y='frequencia(%)', ax=ax[3, 0], palette='Reds')\n",
    "sns.barplot(data=educacao, x=educacao.index,\n",
    "            y='frequencia(%)', ax=ax[3, 1], palette='Reds')\n",
    "sns.barplot(data=estado_civil, x=estado_civil.index,\n",
    "            y='frequencia(%)', ax=ax[3, 2], palette='Reds')\n",
    "sns.barplot(data=idade_bins, x=idade_bins.index,\n",
    "            y='frequencia(%)', palette='Reds_r', ax=ax[4, 0])\n",
    "sns.barplot(data=limit_bins, x=limit_bins.index,\n",
    "            y='frequencia(%)', palette='Reds', ax=ax[4, 1])\n",
    "sns.barplot(data=pgto_amt_set_bins, x=pgto_amt_set_bins.index,\n",
    "            y='frequencia(%)', palette='Reds_r', ax=ax[4, 2])\n",
    "\n",
    "\n",
    "# nomeando eixos do kdeplot\n",
    "ax[3, 2].set_xlabel('idade')\n",
    "ax[3, 2].set_ylabel('frequência')\n",
    "\n",
    "# rotacionando legenda do eixo x\n",
    "ax[4, 0].set_xticklabels(ax[4, 0].get_xticklabels(), rotation=90)\n",
    "ax[4, 1].set_xticklabels(ax[4, 1].get_xticklabels(), rotation=90)\n",
    "ax[4, 2].set_xticklabels(ax[4, 2].get_xticklabels(), rotation=90)\n",
    "\n",
    "plt.show()"
   ]
  },
  {
   "cell_type": "code",
   "execution_count": null,
   "metadata": {
    "ExecuteTime": {
     "end_time": "2020-05-25T17:39:05.127229Z",
     "start_time": "2020-05-25T17:39:03.124109Z"
    }
   },
   "outputs": [],
   "source": [
    "plt.figure(figsize=(20, 8))\n",
    "sns.boxplot(x='idade', y='limite', hue='y', data=df, palette=customPal)\n",
    "plt.title('Variação do limite pela idade')\n",
    "plt.show()"
   ]
  },
  {
   "cell_type": "markdown",
   "metadata": {},
   "source": [
    "__Considerações da análise multivariada__\n",
    "\n",
    "* As relações entre as colunas ``fatura`` e ``pgto`` se dão da seguinte forma:   \n",
    "A fatura do mês Abril é paga no mês de Maio, sendo assim, o **BILL_AMT_6** deve ser pago no **PAY_AMT_5**, o **BILL_AMT_5** deve ser pago no **PAY_AMT_4** e assim por diante.\n",
    "* A correlação de Pearson entre colunas ``fatura`` são altamente correlacionada, o mesmo acontece entre as variáveis de status de pagamento, ``pgto``, essas variaveis e devem ser agrupadas se forem utilizadas em modelos lineares como a regressão logistica\n",
    "* A correlação de Spearman mede a relação monotônica entre variáveis e é mais indicada na correlação entre variaveis categoricas e númericas. Foi verificado que a ``pgto_set`` possui a maior correlação o target.\n",
    "* O teste de chi-square foi utilizado para medir a dependência entre as variaveis categóricas com o target. Os p-valores abaixo de 0,05 reforçam que há dependência entre as variáveis categóricas e o default.\n",
    "* 60% da base são mulheres e dessas, 20% são clientes default, já os homens correspondem a cerca de 40% da base e 24% dos clientes default.\n",
    "* 25% dos clientes default possuem apenas o ensino médio, apenas 19% possuem pós graduação.\n",
    "* 23% dos clientes default possuem estado civil outros.\n",
    "* De modo geral, os limites dos clientes default são inferiores aos limites do clientes não default, embora  essa lógica pareça mudar para clientes com idades nas faixas mais altas, não há volumetria suficiente para concluirmos isso.\n",
    "* O status de pagemento de setembro é uma variavel bastante explicativa, pois os clientes default estão concentrados predominantemente nos status entre 1 e 8."
   ]
  },
  {
   "cell_type": "markdown",
   "metadata": {},
   "source": [
    "## Feature Engineering\n",
    "<a id='feateng'></a>"
   ]
  },
  {
   "cell_type": "markdown",
   "metadata": {
    "ExecuteTime": {
     "end_time": "2020-05-19T17:58:39.958259Z",
     "start_time": "2020-05-19T17:58:39.914880Z"
    }
   },
   "source": [
    "* **atraso** - variável binária que indica se o cliente está atrasado no mês analisado.\n",
    "* **saldo** - diferença entre a fatura e o pagamento no mês analisado\n",
    "* **despesa** - as despesas são a fatura do mês atual somado aos pagamentos das faturas dos meses anteriores e normalizado pelo limite.\n",
    "* **limit_rate** - o percentual do limite que foi consumido no mês"
   ]
  },
  {
   "cell_type": "markdown",
   "metadata": {},
   "source": [
    "### Atraso"
   ]
  },
  {
   "cell_type": "markdown",
   "metadata": {
    "ExecuteTime": {
     "end_time": "2020-05-19T17:58:39.958259Z",
     "start_time": "2020-05-19T17:58:39.914880Z"
    }
   },
   "source": [
    "As variaveis de status de pagamento possuem um forte poder preditivo quando comparado com as demais variaveis presentes no dataset, porém, devido às inconsistências encontradas nessas variáveis, foi visto a necessidade da criação de variaveis mais interpretáveis e nesse sentido foram criadas as colunas que indicam o atraso menasal. Esse grupo de variáveis diz se o cliente está em atraso ou não com base nas colunas de status de pagamento e em regras de negócio.\n",
    "\n",
    "Os valores dos staus de pagamento -1 e -2 indicam, respectivamente, se o cliente está em dia com o pagamento ou se não está utilizando o crédito. Os valores do status de pagamento positivo, indicam a quantidade de meses em atraso. No entanto, o valor ZERO indica que o cliente encontra-se utilizando o crédito rotativo. Será verificado se esse  status de pagamento tem maior correlação com o default quando classificado como atraso."
   ]
  },
  {
   "cell_type": "markdown",
   "metadata": {},
   "source": [
    "Assumindo que crédito rotativo seja uma caracteristica de clientes predominantemente em dia, foi criada a dummy ``atraso`` :\n",
    "\n",
    "\\begin{equation*}\n",
    "atraso_i = \\left\\{\\begin{matrix}\n",
    "0, ~pgto_i \\leq 0\\\\ \n",
    "1, ~pgto_i > 0\n",
    "\\end{matrix}\\right.\n",
    "\\end{equation*}\n",
    "\n",
    ", em que _i_ representa o mês no histórico dos clientes"
   ]
  },
  {
   "cell_type": "code",
   "execution_count": null,
   "metadata": {
    "ExecuteTime": {
     "end_time": "2020-05-25T17:39:05.261025Z",
     "start_time": "2020-05-25T17:39:05.250605Z"
    }
   },
   "outputs": [],
   "source": [
    "df['atraso_set'] = np.where(df['pgto_set'] > 0, 1, 0)\n",
    "df['atraso_ago'] = np.where(df['pgto_ago'] > 0, 1, 0)\n",
    "df['atraso_jul'] = np.where(df['pgto_jul'] > 0, 1, 0)\n",
    "df['atraso_jun'] = np.where(df['pgto_jun'] > 0, 1, 0)\n",
    "df['atraso_mai'] = np.where(df['pgto_mai'] > 0, 1, 0)\n",
    "df['atraso_abr'] = np.where(df['pgto_abr'] > 0, 1, 0)"
   ]
  },
  {
   "cell_type": "markdown",
   "metadata": {},
   "source": [
    "A variavel ``atraso_set`` indica se o cliente está em atraso no mês de setembro, sua correlação com o target já é maior do que todas as demais variáveis presentes no dataset, indicando que esta é uma variável promissora que provavlemente poderá melhorar a performance dos modelos, além do fato de ser mais interpretável que as variáveis de status de pagamento.\n",
    "\n",
    "Levando em consideração as análises prévias das inconsistências nas variáveis de status de pagamento, serão considerados clientes sem atraso aqueles que possuem a fatura negativa."
   ]
  },
  {
   "cell_type": "code",
   "execution_count": null,
   "metadata": {
    "ExecuteTime": {
     "end_time": "2020-05-25T17:39:05.284702Z",
     "start_time": "2020-05-25T17:39:05.262345Z"
    }
   },
   "outputs": [],
   "source": [
    "df['atraso_set'] = np.where(df['pgto_set'] > 0, 1, 0)\n",
    "df.loc[df['fatura_set'] < 0, 'atraso_set'] = 0\n",
    "\n",
    "df['atraso_ago'] = np.where(df['pgto_ago'] > 0, 1, 0)\n",
    "df.loc[df['fatura_ago'] < 0, 'atraso_ago'] = 0\n",
    "\n",
    "df['atraso_jul'] = np.where(df['pgto_jul'] > 0, 1, 0)\n",
    "df.loc[df['fatura_jul'] < 0, 'atraso_jul'] = 0\n",
    "\n",
    "df['atraso_jun'] = np.where(df['pgto_jun'] > 0, 1, 0)\n",
    "df.loc[df['fatura_jun'] < 0, 'atraso_jun'] = 0\n",
    "\n",
    "df['atraso_mai'] = np.where(df['pgto_mai'] > 0, 1, 0)\n",
    "df.loc[df['fatura_mai'] < 0, 'atraso_mai'] = 0\n",
    "\n",
    "df['atraso_abr'] = np.where(df['pgto_abr'] > 0, 1, 0)\n",
    "df.loc[df['fatura_abr'] < 0, 'atraso_abr'] = 0"
   ]
  },
  {
   "cell_type": "markdown",
   "metadata": {},
   "source": [
    "### Saldo"
   ]
  },
  {
   "cell_type": "markdown",
   "metadata": {},
   "source": [
    "Esse grupo de variáveis numéricas mede a diferença entre a fatura e o pagamento mensal normalizado pelo limite.\n",
    "\n",
    "\\begin{equation*}\n",
    "saldo_i = \\frac{fatura_i - pagamento_{i+1}}{limite} \n",
    "\\end{equation*}\n",
    "\n",
    ", em que $i$ representa o mês atual e $i+1$ o mês futuro em que é realizado o pagamento do mês anterior, portanto, o pagamento da $fatura_i$.\n",
    "\n",
    "Por exemplo, o fechamento da fatura de abril é realizado no final do mês e seu pagamento é realizado no mês de maio, logo, o saldo de abril é exatamente o quanto da fatura de abril foi paga pelo cliente.\n",
    "Como o pagamento da fatura de setembro só é realizado em outubro, as variáveis de saldo são do mês de abril ao mês de agosto."
   ]
  },
  {
   "cell_type": "code",
   "execution_count": null,
   "metadata": {
    "ExecuteTime": {
     "end_time": "2020-05-25T17:39:05.301410Z",
     "start_time": "2020-05-25T17:39:05.286196Z"
    }
   },
   "outputs": [],
   "source": [
    "df['saldo_amt_ago'] = (df['fatura_ago'] - df['pgto_amt_set'])/df['limite']\n",
    "df['saldo_amt_jul'] = (df['fatura_jul'] - df['pgto_amt_ago'])/df['limite']\n",
    "df['saldo_amt_jun'] = (df['fatura_jun'] - df['pgto_amt_jul'])/df['limite']\n",
    "df['saldo_amt_mai'] = (df['fatura_mai'] - df['pgto_amt_jun'])/df['limite']\n",
    "df['saldo_amt_abr'] = (df['fatura_abr'] - df['pgto_amt_mai'])/df['limite']"
   ]
  },
  {
   "cell_type": "markdown",
   "metadata": {},
   "source": [
    "### Despesas"
   ]
  },
  {
   "cell_type": "markdown",
   "metadata": {},
   "source": [
    "As despesas são a fatura do mês atual somado aos pagamentos das faturas dos meses anteriores e normalizado pelo limite.\n",
    "\n",
    "\\begin{equation*}\n",
    "despesa_n = \\frac{fatura_{n} + \\sum_{i}^{n} (fatura_{i} - pagamento_{i+1})}{limite} \n",
    "\\end{equation*}"
   ]
  },
  {
   "cell_type": "code",
   "execution_count": null,
   "metadata": {
    "ExecuteTime": {
     "end_time": "2020-05-25T17:39:05.326798Z",
     "start_time": "2020-05-25T17:39:05.302984Z"
    }
   },
   "outputs": [],
   "source": [
    "df['despesa_abr'] = (df_fatura.iloc[:, -2:].sum(axis=1) -\n",
    "                     df_pgto_amt['pgto_amt_mai']) / df['limite']\n",
    "df['despesa_mai'] = (df_fatura.iloc[:, -3:].sum(axis=1) -\n",
    "                     df_pgto_amt.iloc[:, -2:].sum(axis=1)) / df['limite']\n",
    "df['despesa_jun'] = (df_fatura.iloc[:, -4:].sum(axis=1) -\n",
    "                     df_pgto_amt.iloc[:, -3:].sum(axis=1)) / df['limite']\n",
    "df['despesa_jul'] = (df_fatura.iloc[:, -5:].sum(axis=1) -\n",
    "                     df_pgto_amt.iloc[:, -4:].sum(axis=1)) / df['limite']\n",
    "df['despesa_ago'] = (df_fatura.iloc[:, -6:].sum(axis=1) -\n",
    "                     df_pgto_amt.iloc[:, -5:].sum(axis=1)) / df['limite']"
   ]
  },
  {
   "cell_type": "markdown",
   "metadata": {},
   "source": [
    "### Porcentagem do limite utilizado"
   ]
  },
  {
   "cell_type": "markdown",
   "metadata": {},
   "source": [
    "A porcentagem do limite utilizado é basicamente o quanto do limite o cliente consome por mês, intuitivamente, clientes que tem uma utilização de crédito próxima ao valor do seu limite tende a ser mais arriscado. Clientes com faturas negativas possuem um limit_rate negativo, no entanto, o valor mínimo de limit_rate foi truncado para 0, uma vez que não tem muito sentido prático afirmar que o clientes possui uma taxa de consumo de limite negativa.\n",
    "\n",
    "\\begin{equation*}\n",
    "limit ~rate_i = 1 -\\frac{limite - fatura_{i}} {limite}\n",
    "\\end{equation*}"
   ]
  },
  {
   "cell_type": "code",
   "execution_count": null,
   "metadata": {
    "ExecuteTime": {
     "end_time": "2020-05-25T17:39:05.360259Z",
     "start_time": "2020-05-25T17:39:05.328595Z"
    }
   },
   "outputs": [],
   "source": [
    "df['limit_rate_set'] = 1-((df['limite'] - df['fatura_set']) / df['limite'])\n",
    "df['limit_rate_ago'] = 1-((df['limite'] - df['fatura_ago']) / df['limite'])\n",
    "df['limit_rate_jul'] = 1-((df['limite'] - df['fatura_jul']) / df['limite'])\n",
    "df['limit_rate_jun'] = 1-((df['limite'] - df['fatura_jun']) / df['limite'])\n",
    "df['limit_rate_mai'] = 1-((df['limite'] - df['fatura_mai']) / df['limite'])\n",
    "df['limit_rate_abr'] = 1-((df['limite'] - df['fatura_abr']) / df['limite'])\n",
    "\n",
    "df.loc[(df['limit_rate_set'] < 0, 'limit_rate_set')] = 0\n",
    "df.loc[(df['limit_rate_ago'] < 0, 'limit_rate_ago')] = 0\n",
    "df.loc[(df['limit_rate_jul'] < 0, 'limit_rate_jul')] = 0\n",
    "df.loc[(df['limit_rate_jun'] < 0, 'limit_rate_jun')] = 0\n",
    "df.loc[(df['limit_rate_mai'] < 0, 'limit_rate_mai')] = 0\n",
    "df.loc[(df['limit_rate_abr'] < 0, 'limit_rate_abr')] = 0"
   ]
  },
  {
   "cell_type": "markdown",
   "metadata": {},
   "source": [
    "## Correlação entre as novas variáveis"
   ]
  },
  {
   "cell_type": "code",
   "execution_count": null,
   "metadata": {
    "ExecuteTime": {
     "end_time": "2020-05-25T17:39:06.491329Z",
     "start_time": "2020-05-25T17:39:05.367364Z"
    },
    "scrolled": false
   },
   "outputs": [],
   "source": [
    "num_feat_corr = df.filter(regex='limit_rate|despesa|saldo|atraso').corr()\n",
    "mask = np.triu(np.ones_like(num_feat_corr, dtype=bool))\n",
    "plt.figure(figsize=(22, 10))\n",
    "sns.heatmap(num_feat_corr, mask=mask, fmt='.2f', cmap=cmap, annot=True)\n",
    "plt.title('Correlação de Pearson entre as variáveis numéricas')\n",
    "plt.show()"
   ]
  },
  {
   "cell_type": "markdown",
   "metadata": {},
   "source": [
    "## Salvando novo dataframe"
   ]
  },
  {
   "cell_type": "code",
   "execution_count": null,
   "metadata": {
    "ExecuteTime": {
     "end_time": "2020-05-25T17:42:08.776145Z",
     "start_time": "2020-05-25T17:42:08.724737Z"
    }
   },
   "outputs": [],
   "source": [
    "df['genero'] = df['genero'].replace({'masculino': 1, 'feminino': 2})\n",
    "df['educacao'] = df['educacao'].replace(\n",
    "    {'pós-graduação': 1, 'superior': 2,  'ensino médio': 3, 'outros': 4})\n",
    "df['estado_civil'] = df['estado_civil'].replace(\n",
    "    {'casado': 1, 'solteiro': 2, 'outros': 3})\n",
    "\n",
    "df = df.drop(['limit_bins', 'idade_bins', 'pgto_amt_set_bins'], axis=1)"
   ]
  },
  {
   "cell_type": "code",
   "execution_count": null,
   "metadata": {
    "ExecuteTime": {
     "end_time": "2020-05-25T19:58:07.092722Z",
     "start_time": "2020-05-25T19:58:06.220925Z"
    }
   },
   "outputs": [],
   "source": [
    "df.to_csv('data/data_train_preproc.csv', index=False)"
   ]
  },
  {
   "cell_type": "markdown",
   "metadata": {},
   "source": [
    "## Conclusão"
   ]
  },
  {
   "cell_type": "markdown",
   "metadata": {},
   "source": [
    "Com base na análise detalhada do dataset de clientes de cartão de crédito, as seguintes recomendações podem ser feitas para a área de negócio:\n",
    "\n",
    "1. **Gestão de Risco de Crédito**:\n",
    "   - Priorizar a análise do status de pagamento, especialmente a variável `atraso_set`, para identificar clientes com maior propensão ao default.\n",
    "   - Implementar políticas de crédito mais rigorosas para clientes com limites mais baixos e alta utilização do crédito rotativo.\n",
    "\n",
    "2. **Melhoria na Previsão de Default**:\n",
    "   - Desenvolver modelos preditivos utilizando variáveis como saldo, despesas e limit rate, que demonstraram ser altamente correlacionadas com o default.\n",
    "   - Considerar a criação de variáveis derivadas mais interpretáveis para melhorar a interpretação e a precisão dos modelos.\n",
    "\n",
    "3. **Perfil de Clientes**:\n",
    "   - Identificar perfis de clientes com maior risco de default, como aqueles com níveis mais baixos de escolaridade ou estados civis menos estáveis.\n",
    "   - Personalizar estratégias de comunicação e oferta para diferentes segmentos de clientes, com base nas características demográficas e comportamentais.\n",
    "\n",
    "4. **Melhoria na Qualidade dos Dados**:\n",
    "   - Tratar as inconsistências identificadas nas variáveis de status de pagamento e faturas negativas para melhorar a qualidade dos dados de entrada nos modelos.\n",
    "\n",
    "5. **Monitoramento Contínuo**:\n",
    "   - Implementar um sistema de monitoramento contínuo dos clientes para identificar mudanças nos padrões de comportamento e de risco.\n",
    "   - Atualizar regularmente os modelos preditivos com novos dados e ajustar as estratégias conforme necessário.\n",
    "\n",
    "Essas recomendações visam melhorar a gestão de risco de crédito, aumentar a precisão na previsão de default e proporcionar uma abordagem mais personalizada para o relacionamento com os clientes. Implementar essas estratégias pode resultar em uma redução significativa nos índices de inadimplência e em uma gestão mais eficiente da carteira de clientes de cartão de crédito."
   ]
  }
 ],
 "metadata": {
  "hide_input": true,
  "kernelspec": {
   "display_name": "Python 3",
   "language": "python",
   "name": "python3"
  },
  "language_info": {
   "codemirror_mode": {
    "name": "ipython",
    "version": 3
   },
   "file_extension": ".py",
   "mimetype": "text/x-python",
   "name": "python",
   "nbconvert_exporter": "python",
   "pygments_lexer": "ipython3",
   "version": "3.10.14"
  },
  "toc": {
   "base_numbering": 1,
   "nav_menu": {},
   "number_sections": true,
   "sideBar": true,
   "skip_h1_title": false,
   "title_cell": "Table of Contents",
   "title_sidebar": "Contents",
   "toc_cell": false,
   "toc_position": {
    "height": "calc(100% - 180px)",
    "left": "10px",
    "top": "150px",
    "width": "309px"
   },
   "toc_section_display": true,
   "toc_window_display": true
  },
  "varInspector": {
   "cols": {
    "lenName": 16,
    "lenType": 16,
    "lenVar": 40
   },
   "kernels_config": {
    "python": {
     "delete_cmd_postfix": "",
     "delete_cmd_prefix": "del ",
     "library": "var_list.py",
     "varRefreshCmd": "print(var_dic_list())"
    },
    "r": {
     "delete_cmd_postfix": ") ",
     "delete_cmd_prefix": "rm(",
     "library": "var_list.r",
     "varRefreshCmd": "cat(var_dic_list()) "
    }
   },
   "types_to_exclude": [
    "module",
    "function",
    "builtin_function_or_method",
    "instance",
    "_Feature"
   ],
   "window_display": false
  }
 },
 "nbformat": 4,
 "nbformat_minor": 4
}
