{
 "cells": [
  {
   "cell_type": "markdown",
   "metadata": {},
   "source": [
    "# Criando DataFrames do Pandas a partir de API\n",
    "Neste exemplo, usaremos a API do Serviço Geológico dos Estados Unidos (USGS) para obter um objeto JSON de dados de terremotos e convertê-lo em um `pandas.DataFrame`.\n",
    "\n",
    "API do USGS: https://earthquake.usgs.gov/fdsnws/event/1/"
   ]
  },
  {
   "cell_type": "markdown",
   "metadata": {},
   "source": [
    "### Get Data from API"
   ]
  },
  {
   "cell_type": "code",
   "execution_count": 1,
   "metadata": {},
   "outputs": [
    {
     "data": {
      "text/plain": [
       "200"
      ]
     },
     "execution_count": 1,
     "metadata": {},
     "output_type": "execute_result"
    }
   ],
   "source": [
    "import datetime as dt\n",
    "import pandas as pd\n",
    "import requests\n",
    "\n",
    "yesterday = dt.date.today() - dt.timedelta(days=1)\n",
    "api = 'https://earthquake.usgs.gov/fdsnws/event/1/query'\n",
    "payload = {\n",
    "    'format': 'geojson',\n",
    "    'starttime': yesterday - dt.timedelta(days=30),\n",
    "    'endtime': yesterday\n",
    "}\n",
    "response = requests.get(api, params=payload)\n",
    "\n",
    "# let's make sure the request was OK\n",
    "response.status_code"
   ]
  },
  {
   "cell_type": "markdown",
   "metadata": {},
   "source": [
    "Resposta de 200 significa OK, então podemos extrair os dados do resultado. Como solicitamos à API um payload JSON, podemos extrair isso da resposta com o método `json()`.\n",
    "\n",
    "### Isolando os Dados da Resposta JSON\n",
    "Precisamos verificar a estrutura dos dados da resposta para saber onde estão nossos dados."
   ]
  },
  {
   "cell_type": "code",
   "execution_count": 2,
   "metadata": {},
   "outputs": [
    {
     "data": {
      "text/plain": [
       "dict_keys(['type', 'metadata', 'features', 'bbox'])"
      ]
     },
     "execution_count": 2,
     "metadata": {},
     "output_type": "execute_result"
    }
   ],
   "source": [
    "earthquake_json = response.json()\n",
    "earthquake_json.keys()"
   ]
  },
  {
   "cell_type": "markdown",
   "metadata": {},
   "source": [
    "A API do USGS fornece informações sobre nossa solicitação na chave `metadata`. Observe que seu resultado será diferente, independentemente do intervalo de datas escolhido, porque a API inclui um carimbo de data/hora para quando os dados foram obtidos."
   ]
  },
  {
   "cell_type": "code",
   "execution_count": 3,
   "metadata": {},
   "outputs": [
    {
     "data": {
      "text/plain": [
       "{'generated': 1717280185000,\n",
       " 'url': 'https://earthquake.usgs.gov/fdsnws/event/1/query?format=geojson&starttime=2024-05-01&endtime=2024-05-31',\n",
       " 'title': 'USGS Earthquakes',\n",
       " 'status': 200,\n",
       " 'api': '1.14.1',\n",
       " 'count': 10082}"
      ]
     },
     "execution_count": 3,
     "metadata": {},
     "output_type": "execute_result"
    }
   ],
   "source": [
    "earthquake_json['metadata']"
   ]
  },
  {
   "cell_type": "markdown",
   "metadata": {},
   "source": [
    "Cada elemento na matriz JSON `features` é uma linha de dados para o nosso dataframe."
   ]
  },
  {
   "cell_type": "code",
   "execution_count": 4,
   "metadata": {},
   "outputs": [
    {
     "data": {
      "text/plain": [
       "list"
      ]
     },
     "execution_count": 4,
     "metadata": {},
     "output_type": "execute_result"
    }
   ],
   "source": [
    "type(earthquake_json['features'])"
   ]
  },
  {
   "cell_type": "markdown",
   "metadata": {},
   "source": [
    "Seus dados serão diferentes dependendo da data em que você fizer essa solicitação."
   ]
  },
  {
   "cell_type": "code",
   "execution_count": 5,
   "metadata": {},
   "outputs": [
    {
     "data": {
      "text/plain": [
       "{'type': 'Feature',\n",
       " 'properties': {'mag': 1.74000001,\n",
       "  'place': '13 km SSE of Fern Forest, Hawaii',\n",
       "  'time': 1717113483880,\n",
       "  'updated': 1717113640310,\n",
       "  'tz': None,\n",
       "  'url': 'https://earthquake.usgs.gov/earthquakes/eventpage/hv74254316',\n",
       "  'detail': 'https://earthquake.usgs.gov/fdsnws/event/1/query?eventid=hv74254316&format=geojson',\n",
       "  'felt': None,\n",
       "  'cdi': None,\n",
       "  'mmi': None,\n",
       "  'alert': None,\n",
       "  'status': 'automatic',\n",
       "  'tsunami': 0,\n",
       "  'sig': 47,\n",
       "  'net': 'hv',\n",
       "  'code': '74254316',\n",
       "  'ids': ',hv74254316,',\n",
       "  'sources': ',hv,',\n",
       "  'types': ',origin,phase-data,',\n",
       "  'nst': 28,\n",
       "  'dmin': 0.03988,\n",
       "  'rms': 0.300000012,\n",
       "  'gap': 192,\n",
       "  'magType': 'md',\n",
       "  'type': 'earthquake',\n",
       "  'title': 'M 1.7 - 13 km SSE of Fern Forest, Hawaii'},\n",
       " 'geometry': {'type': 'Point',\n",
       "  'coordinates': [-155.065002441406, 19.3635005950928, 2.61999988555908]},\n",
       " 'id': 'hv74254316'}"
      ]
     },
     "execution_count": 5,
     "metadata": {},
     "output_type": "execute_result"
    }
   ],
   "source": [
    "earthquake_json['features'][0]"
   ]
  },
  {
   "cell_type": "markdown",
   "metadata": {},
   "source": [
    "### Converter para DataFrame\n",
    "\n",
    "Precisamos extrair a seção `properties` de cada entrada na matriz JSON `features` para criar nosso dataframe."
   ]
  },
  {
   "cell_type": "code",
   "execution_count": 7,
   "metadata": {},
   "outputs": [
    {
     "data": {
      "text/html": [
       "<div>\n",
       "<style scoped>\n",
       "    .dataframe tbody tr th:only-of-type {\n",
       "        vertical-align: middle;\n",
       "    }\n",
       "\n",
       "    .dataframe tbody tr th {\n",
       "        vertical-align: top;\n",
       "    }\n",
       "\n",
       "    .dataframe thead th {\n",
       "        text-align: right;\n",
       "    }\n",
       "</style>\n",
       "<table border=\"1\" class=\"dataframe\">\n",
       "  <thead>\n",
       "    <tr style=\"text-align: right;\">\n",
       "      <th></th>\n",
       "      <th>mag</th>\n",
       "      <th>place</th>\n",
       "      <th>time</th>\n",
       "      <th>updated</th>\n",
       "      <th>tz</th>\n",
       "      <th>url</th>\n",
       "      <th>detail</th>\n",
       "      <th>felt</th>\n",
       "      <th>cdi</th>\n",
       "      <th>mmi</th>\n",
       "      <th>...</th>\n",
       "      <th>ids</th>\n",
       "      <th>sources</th>\n",
       "      <th>types</th>\n",
       "      <th>nst</th>\n",
       "      <th>dmin</th>\n",
       "      <th>rms</th>\n",
       "      <th>gap</th>\n",
       "      <th>magType</th>\n",
       "      <th>type</th>\n",
       "      <th>title</th>\n",
       "    </tr>\n",
       "  </thead>\n",
       "  <tbody>\n",
       "    <tr>\n",
       "      <th>0</th>\n",
       "      <td>1.74</td>\n",
       "      <td>13 km SSE of Fern Forest, Hawaii</td>\n",
       "      <td>1717113483880</td>\n",
       "      <td>1717113640310</td>\n",
       "      <td>None</td>\n",
       "      <td>https://earthquake.usgs.gov/earthquakes/eventp...</td>\n",
       "      <td>https://earthquake.usgs.gov/fdsnws/event/1/que...</td>\n",
       "      <td>NaN</td>\n",
       "      <td>NaN</td>\n",
       "      <td>NaN</td>\n",
       "      <td>...</td>\n",
       "      <td>,hv74254316,</td>\n",
       "      <td>,hv,</td>\n",
       "      <td>,origin,phase-data,</td>\n",
       "      <td>28.0</td>\n",
       "      <td>0.03988</td>\n",
       "      <td>0.3000</td>\n",
       "      <td>192.00</td>\n",
       "      <td>md</td>\n",
       "      <td>earthquake</td>\n",
       "      <td>M 1.7 - 13 km SSE of Fern Forest, Hawaii</td>\n",
       "    </tr>\n",
       "    <tr>\n",
       "      <th>1</th>\n",
       "      <td>0.30</td>\n",
       "      <td>27 km NE of Manley Hot Springs, Alaska</td>\n",
       "      <td>1717112855077</td>\n",
       "      <td>1717112957566</td>\n",
       "      <td>None</td>\n",
       "      <td>https://earthquake.usgs.gov/earthquakes/eventp...</td>\n",
       "      <td>https://earthquake.usgs.gov/fdsnws/event/1/que...</td>\n",
       "      <td>NaN</td>\n",
       "      <td>NaN</td>\n",
       "      <td>NaN</td>\n",
       "      <td>...</td>\n",
       "      <td>,ak0246y44iub,</td>\n",
       "      <td>,ak,</td>\n",
       "      <td>,origin,phase-data,</td>\n",
       "      <td>NaN</td>\n",
       "      <td>NaN</td>\n",
       "      <td>0.3700</td>\n",
       "      <td>NaN</td>\n",
       "      <td>ml</td>\n",
       "      <td>earthquake</td>\n",
       "      <td>M 0.3 - 27 km NE of Manley Hot Springs, Alaska</td>\n",
       "    </tr>\n",
       "    <tr>\n",
       "      <th>2</th>\n",
       "      <td>1.87</td>\n",
       "      <td>4 km N of Larkfield-Wikiup, CA</td>\n",
       "      <td>1717112708770</td>\n",
       "      <td>1717112890490</td>\n",
       "      <td>None</td>\n",
       "      <td>https://earthquake.usgs.gov/earthquakes/eventp...</td>\n",
       "      <td>https://earthquake.usgs.gov/fdsnws/event/1/que...</td>\n",
       "      <td>NaN</td>\n",
       "      <td>NaN</td>\n",
       "      <td>NaN</td>\n",
       "      <td>...</td>\n",
       "      <td>,nc75013532,</td>\n",
       "      <td>,nc,</td>\n",
       "      <td>,focal-mechanism,nearby-cities,origin,phase-data,</td>\n",
       "      <td>39.0</td>\n",
       "      <td>0.05432</td>\n",
       "      <td>0.0700</td>\n",
       "      <td>73.00</td>\n",
       "      <td>md</td>\n",
       "      <td>earthquake</td>\n",
       "      <td>M 1.9 - 4 km N of Larkfield-Wikiup, CA</td>\n",
       "    </tr>\n",
       "    <tr>\n",
       "      <th>3</th>\n",
       "      <td>1.00</td>\n",
       "      <td>3 km WSW of Farmers Loop, Alaska</td>\n",
       "      <td>1717112703257</td>\n",
       "      <td>1717112890771</td>\n",
       "      <td>None</td>\n",
       "      <td>https://earthquake.usgs.gov/earthquakes/eventp...</td>\n",
       "      <td>https://earthquake.usgs.gov/fdsnws/event/1/que...</td>\n",
       "      <td>NaN</td>\n",
       "      <td>NaN</td>\n",
       "      <td>NaN</td>\n",
       "      <td>...</td>\n",
       "      <td>,ak0246y440y8,</td>\n",
       "      <td>,ak,</td>\n",
       "      <td>,origin,phase-data,</td>\n",
       "      <td>NaN</td>\n",
       "      <td>NaN</td>\n",
       "      <td>0.6700</td>\n",
       "      <td>NaN</td>\n",
       "      <td>ml</td>\n",
       "      <td>earthquake</td>\n",
       "      <td>M 1.0 - 3 km WSW of Farmers Loop, Alaska</td>\n",
       "    </tr>\n",
       "    <tr>\n",
       "      <th>4</th>\n",
       "      <td>0.70</td>\n",
       "      <td>43 km NNE of Beatty, Nevada</td>\n",
       "      <td>1717112388264</td>\n",
       "      <td>1717114258299</td>\n",
       "      <td>None</td>\n",
       "      <td>https://earthquake.usgs.gov/earthquakes/eventp...</td>\n",
       "      <td>https://earthquake.usgs.gov/fdsnws/event/1/que...</td>\n",
       "      <td>NaN</td>\n",
       "      <td>NaN</td>\n",
       "      <td>NaN</td>\n",
       "      <td>...</td>\n",
       "      <td>,nn00878395,</td>\n",
       "      <td>,nn,</td>\n",
       "      <td>,origin,phase-data,</td>\n",
       "      <td>14.0</td>\n",
       "      <td>0.07300</td>\n",
       "      <td>0.1474</td>\n",
       "      <td>155.48</td>\n",
       "      <td>ml</td>\n",
       "      <td>earthquake</td>\n",
       "      <td>M 0.7 - 43 km NNE of Beatty, Nevada</td>\n",
       "    </tr>\n",
       "  </tbody>\n",
       "</table>\n",
       "<p>5 rows × 26 columns</p>\n",
       "</div>"
      ],
      "text/plain": [
       "    mag                                   place           time        updated  \\\n",
       "0  1.74        13 km SSE of Fern Forest, Hawaii  1717113483880  1717113640310   \n",
       "1  0.30  27 km NE of Manley Hot Springs, Alaska  1717112855077  1717112957566   \n",
       "2  1.87          4 km N of Larkfield-Wikiup, CA  1717112708770  1717112890490   \n",
       "3  1.00        3 km WSW of Farmers Loop, Alaska  1717112703257  1717112890771   \n",
       "4  0.70             43 km NNE of Beatty, Nevada  1717112388264  1717114258299   \n",
       "\n",
       "     tz                                                url  \\\n",
       "0  None  https://earthquake.usgs.gov/earthquakes/eventp...   \n",
       "1  None  https://earthquake.usgs.gov/earthquakes/eventp...   \n",
       "2  None  https://earthquake.usgs.gov/earthquakes/eventp...   \n",
       "3  None  https://earthquake.usgs.gov/earthquakes/eventp...   \n",
       "4  None  https://earthquake.usgs.gov/earthquakes/eventp...   \n",
       "\n",
       "                                              detail  felt  cdi  mmi  ...  \\\n",
       "0  https://earthquake.usgs.gov/fdsnws/event/1/que...   NaN  NaN  NaN  ...   \n",
       "1  https://earthquake.usgs.gov/fdsnws/event/1/que...   NaN  NaN  NaN  ...   \n",
       "2  https://earthquake.usgs.gov/fdsnws/event/1/que...   NaN  NaN  NaN  ...   \n",
       "3  https://earthquake.usgs.gov/fdsnws/event/1/que...   NaN  NaN  NaN  ...   \n",
       "4  https://earthquake.usgs.gov/fdsnws/event/1/que...   NaN  NaN  NaN  ...   \n",
       "\n",
       "              ids sources                                              types  \\\n",
       "0    ,hv74254316,    ,hv,                                ,origin,phase-data,   \n",
       "1  ,ak0246y44iub,    ,ak,                                ,origin,phase-data,   \n",
       "2    ,nc75013532,    ,nc,  ,focal-mechanism,nearby-cities,origin,phase-data,   \n",
       "3  ,ak0246y440y8,    ,ak,                                ,origin,phase-data,   \n",
       "4    ,nn00878395,    ,nn,                                ,origin,phase-data,   \n",
       "\n",
       "    nst     dmin     rms     gap magType        type  \\\n",
       "0  28.0  0.03988  0.3000  192.00      md  earthquake   \n",
       "1   NaN      NaN  0.3700     NaN      ml  earthquake   \n",
       "2  39.0  0.05432  0.0700   73.00      md  earthquake   \n",
       "3   NaN      NaN  0.6700     NaN      ml  earthquake   \n",
       "4  14.0  0.07300  0.1474  155.48      ml  earthquake   \n",
       "\n",
       "                                            title  \n",
       "0        M 1.7 - 13 km SSE of Fern Forest, Hawaii  \n",
       "1  M 0.3 - 27 km NE of Manley Hot Springs, Alaska  \n",
       "2          M 1.9 - 4 km N of Larkfield-Wikiup, CA  \n",
       "3        M 1.0 - 3 km WSW of Farmers Loop, Alaska  \n",
       "4             M 0.7 - 43 km NNE of Beatty, Nevada  \n",
       "\n",
       "[5 rows x 26 columns]"
      ]
     },
     "execution_count": 7,
     "metadata": {},
     "output_type": "execute_result"
    }
   ],
   "source": [
    "earthquake_properties_data = [\n",
    "    quake['properties'] for quake in earthquake_json['features']\n",
    "]\n",
    "df = pd.DataFrame(earthquake_properties_data)\n",
    "df.head()"
   ]
  },
  {
   "cell_type": "markdown",
   "metadata": {},
   "source": [
    "### (Opcional) Salvar Dados em CSV"
   ]
  },
  {
   "cell_type": "code",
   "execution_count": 7,
   "metadata": {},
   "outputs": [],
   "source": [
    "df.to_csv('earthquakes.csv', index=False)"
   ]
  },
  {
   "cell_type": "markdown",
   "metadata": {},
   "source": [
    "<hr>\n",
    "<div>\n",
    "    <a href=\"./2-creating_dataframes.ipynb\">\n",
    "        <button style=\"float: left;\">&#8592; Previous Notebook</button>\n",
    "    </a>\n",
    "    <a href=\"./4-inspecting_dataframes.ipynb\">\n",
    "        <button style=\"float: right;\">Next Notebook &#8594;</button>\n",
    "    </a>\n",
    "</div>\n",
    "<br>\n",
    "<hr>"
   ]
  }
 ],
 "metadata": {
  "kernelspec": {
   "display_name": "Python 3",
   "language": "python",
   "name": "python3"
  },
  "language_info": {
   "codemirror_mode": {
    "name": "ipython",
    "version": 3
   },
   "file_extension": ".py",
   "mimetype": "text/x-python",
   "name": "python",
   "nbconvert_exporter": "python",
   "pygments_lexer": "ipython3",
   "version": "3.10.14"
  }
 },
 "nbformat": 4,
 "nbformat_minor": 4
}
