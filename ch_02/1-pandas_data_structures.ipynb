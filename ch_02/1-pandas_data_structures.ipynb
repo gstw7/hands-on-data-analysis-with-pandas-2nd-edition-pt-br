{
 "cells": [
  {
   "cell_type": "markdown",
   "metadata": {},
   "source": [
    "# Visão Geral das Estruturas de Dados do Pandas\n",
    "Nesta seção, discutiremos as classes `Series`, `Index` e `DataFrame`. Para isso, leremos um trecho do arquivo CSV com o qual trabalharemos mais tarde. Não se preocupe com essa parte ainda.\n",
    "\n",
    "## Sobre os Dados\n",
    "Neste notebook, estaremos trabalhando com 5 linhas dos dados de terremotos coletados entre 18 de setembro de 2018 - 13 de outubro de 2018 (obtidos do US Geological Survey (USGS) usando a [API do USGS](https://earthquake.usgs.gov/fdsnws/event/1/))\n",
    "\n",
    "## Trabalhando com Arrays NumPy\n",
    "Vamos ler um pequeno arquivo CSV (usando `numpy`) para alguns dados de amostra."
   ]
  },
  {
   "cell_type": "code",
   "execution_count": 1,
   "metadata": {},
   "outputs": [
    {
     "data": {
      "text/plain": [
       "array([('2018-10-13 11:10:23.560', '262km NW of Ozernovskiy, Russia', 'mww', 6.7, 'green', 1),\n",
       "       ('2018-10-13 04:34:15.580', '25km E of Bitung, Indonesia', 'mww', 5.2, 'green', 0),\n",
       "       ('2018-10-13 00:13:46.220', '42km WNW of Sola, Vanuatu', 'mww', 5.7, 'green', 0),\n",
       "       ('2018-10-12 21:09:49.240', '13km E of Nueva Concepcion, Guatemala', 'mww', 5.7, 'green', 0),\n",
       "       ('2018-10-12 02:52:03.620', '128km SE of Kimbe, Papua New Guinea', 'mww', 5.6, 'green', 1)],\n",
       "      dtype=[('time', '<U23'), ('place', '<U37'), ('magType', '<U3'), ('mag', '<f8'), ('alert', '<U5'), ('tsunami', '<i8')])"
      ]
     },
     "execution_count": 1,
     "metadata": {},
     "output_type": "execute_result"
    }
   ],
   "source": [
    "import numpy as np\n",
    "\n",
    "data = np.genfromtxt(\n",
    "    'data/example_data.csv', delimiter=';', \n",
    "    names=True, dtype=None, encoding='UTF'\n",
    ")\n",
    "data"
   ]
  },
  {
   "cell_type": "markdown",
   "metadata": {},
   "source": [
    "Podemos encontrar as dimensões com o atributo `shape`:"
   ]
  },
  {
   "cell_type": "code",
   "execution_count": 2,
   "metadata": {},
   "outputs": [
    {
     "data": {
      "text/plain": [
       "(5,)"
      ]
     },
     "execution_count": 2,
     "metadata": {},
     "output_type": "execute_result"
    }
   ],
   "source": [
    "data.shape"
   ]
  },
  {
   "cell_type": "markdown",
   "metadata": {},
   "source": [
    "Podemos encontrar os tipos de dados com o atributo `dtype`:"
   ]
  },
  {
   "cell_type": "code",
   "execution_count": 3,
   "metadata": {},
   "outputs": [
    {
     "data": {
      "text/plain": [
       "dtype([('time', '<U23'), ('place', '<U37'), ('magType', '<U3'), ('mag', '<f8'), ('alert', '<U5'), ('tsunami', '<i8')])"
      ]
     },
     "execution_count": 3,
     "metadata": {},
     "output_type": "execute_result"
    }
   ],
   "source": [
    "data.dtype"
   ]
  },
  {
   "cell_type": "markdown",
   "metadata": {},
   "source": [
    "Cada uma das entradas no array é uma linha do arquivo CSV. Arrays do NumPy contêm um único tipo de dado (diferente de listas, que permitem tipos mistos); isso possibilita operações rápidas e vetorizadas. Quando lemos os dados, obtivemos um array de objetos `numpy.void`, que são criados para armazenar tipos flexíveis. Isso ocorre porque o NumPy precisa armazenar vários tipos de dados diferentes por linha: quatro strings, um float e um inteiro. Isso significa que não podemos aproveitar as melhorias de desempenho que o NumPy oferece para objetos de um único tipo de dado.\n",
    "\n",
    "Digamos que queremos encontrar a magnitude máxima&mdash;podemos usar uma **[list comprehension](https://www.python.org/dev/peps/pep-0202/)** para selecionar o terceiro índice de cada linha, que é representado como um objeto `numpy.void`. Isso cria uma lista, o que significa que podemos obter o valor máximo usando a função `max()`:"
   ]
  },
  {
   "cell_type": "code",
   "execution_count": 11,
   "metadata": {},
   "outputs": [
    {
     "data": {
      "text/plain": [
       "6.7"
      ]
     },
     "execution_count": 11,
     "metadata": {},
     "output_type": "execute_result"
    }
   ],
   "source": [
    "max([row[3] for row in data])"
   ]
  },
  {
   "cell_type": "markdown",
   "metadata": {},
   "source": [
    "Se, em vez disso, criarmos um array do NumPy para cada coluna, essa operação será muito mais fácil (e mais eficiente) de realizar. Podemos usar uma **[dictionary comprehension](https://www.python.org/dev/peps/pep-0274/)** para criar um dicionário onde as chaves são os nomes das colunas e os valores são arrays do NumPy com os dados:"
   ]
  },
  {
   "cell_type": "code",
   "execution_count": 5,
   "metadata": {},
   "outputs": [
    {
     "data": {
      "text/plain": [
       "{'time': array(['2018-10-13 11:10:23.560', '2018-10-13 04:34:15.580',\n",
       "        '2018-10-13 00:13:46.220', '2018-10-12 21:09:49.240',\n",
       "        '2018-10-12 02:52:03.620'], dtype='<U23'),\n",
       " 'place': array(['262km NW of Ozernovskiy, Russia', '25km E of Bitung, Indonesia',\n",
       "        '42km WNW of Sola, Vanuatu',\n",
       "        '13km E of Nueva Concepcion, Guatemala',\n",
       "        '128km SE of Kimbe, Papua New Guinea'], dtype='<U37'),\n",
       " 'magType': array(['mww', 'mww', 'mww', 'mww', 'mww'], dtype='<U3'),\n",
       " 'mag': array([6.7, 5.2, 5.7, 5.7, 5.6]),\n",
       " 'alert': array(['green', 'green', 'green', 'green', 'green'], dtype='<U5'),\n",
       " 'tsunami': array([1, 0, 0, 0, 1])}"
      ]
     },
     "execution_count": 5,
     "metadata": {},
     "output_type": "execute_result"
    }
   ],
   "source": [
    "array_dict = {\n",
    "    col: np.array([row[i] for row in data])\n",
    "    for i, col in enumerate(data.dtype.names)\n",
    "}\n",
    "array_dict"
   ]
  },
  {
   "cell_type": "markdown",
   "metadata": {},
   "source": [
    "Obter a magnitude máxima agora é simplesmente uma questão de selecionar a chave `mag` e chamar o método `max()`. Isso é quase duas vezes mais rápido do que a implementação com list comprehension quando lidamos com apenas 5 entradas; imagine o quão pior a primeira tentativa irá se comportar em grandes conjuntos de dados:"
   ]
  },
  {
   "cell_type": "code",
   "execution_count": 10,
   "metadata": {},
   "outputs": [
    {
     "data": {
      "text/plain": [
       "6.7"
      ]
     },
     "execution_count": 10,
     "metadata": {},
     "output_type": "execute_result"
    }
   ],
   "source": [
    "array_dict['mag'].max()"
   ]
  },
  {
   "cell_type": "markdown",
   "metadata": {},
   "source": [
    "No entanto, essa representação tem outros problemas. Digamos que queremos obter todas as informações sobre o terremoto com a magnitude máxima, como faríamos isso? Precisaríamos encontrar o índice do valor máximo e, em seguida, para cada uma das chaves no dicionário, pegar esse índice:"
   ]
  },
  {
   "cell_type": "code",
   "execution_count": 12,
   "metadata": {},
   "outputs": [
    {
     "data": {
      "text/plain": [
       "array(['2018-10-13 11:10:23.560', '262km NW of Ozernovskiy, Russia',\n",
       "       'mww', '6.7', 'green', '1'], dtype='<U32')"
      ]
     },
     "execution_count": 12,
     "metadata": {},
     "output_type": "execute_result"
    }
   ],
   "source": [
    "np.array([\n",
    "    value[array_dict['mag'].argmax()] \n",
    "    for key, value in array_dict.items()\n",
    "])"
   ]
  },
  {
   "cell_type": "markdown",
   "metadata": {},
   "source": [
    "O resultado agora é um array do NumPy de strings (nossos valores numéricos foram convertidos) e estamos agora no formato anterior. Além disso, considere tentar ordenar os dados pela magnitude do menor para o maior. Na primeira representação, teríamos que ordenar as linhas examinando o 3º índice. Com a segunda representação, teríamos que determinar a ordem dos índices da coluna `mag` e, em seguida, ordenar todos os outros arrays com esses mesmos índices. Claramente, trabalhar com vários arrays do NumPy de diferentes tipos de dados ao mesmo tempo é um pouco complicado. No entanto, o `pandas` constrói em cima dos arrays do NumPy para facilitar isso. Vamos começar nossa exploração do `pandas` com uma visão geral das estruturas de dados.\n",
    "\n",
    "## `Series`\n",
    "A classe `Series` fornece uma estrutura de dados para arrays de um único tipo com algumas funcionalidades adicionais."
   ]
  },
  {
   "cell_type": "code",
   "execution_count": 17,
   "metadata": {},
   "outputs": [
    {
     "data": {
      "text/plain": [
       "0          262km NW of Ozernovskiy, Russia\n",
       "1              25km E of Bitung, Indonesia\n",
       "2                42km WNW of Sola, Vanuatu\n",
       "3    13km E of Nueva Concepcion, Guatemala\n",
       "4      128km SE of Kimbe, Papua New Guinea\n",
       "Name: place, dtype: object"
      ]
     },
     "execution_count": 17,
     "metadata": {},
     "output_type": "execute_result"
    }
   ],
   "source": [
    "import pandas as pd\n",
    "\n",
    "lugares = pd.Series(array_dict['place'], name='place')\n",
    "lugares"
   ]
  },
  {
   "cell_type": "markdown",
   "metadata": {},
   "source": [
    "Aqui estão alguns atributos comumente usados com objetos `Series`:\n",
    "\n",
    "| Atributo | Retorna |\n",
    "| --- | --- |\n",
    "| `name` | O nome do objeto `Series` |\n",
    "| `dtype` | O tipo de dado do objeto `Series` |\n",
    "| `shape` | Dimensões do objeto `Series` em uma tupla na forma `(número de linhas,)` |\n",
    "| `index` | O objeto `Index` que faz parte do objeto `Series` |\n",
    "| `values` | Os dados no objeto `Series` |\n",
    "\n",
    "Na maioria das vezes, objetos do `pandas` usam arrays do NumPy para suas representações internas de dados. No entanto, para alguns tipos de dados, o `pandas` constrói em cima do NumPy para criar seus próprios [arrays](https://pandas.pydata.org/pandas-docs/stable/reference/arrays.html). Por essa razão, dependendo do tipo de dado, `values` pode ser um objeto `pandas.array` ou `numpy.array`. Portanto, se precisarmos garantir que recebemos um tipo específico, é recomendado usar o atributo `array` ou o método `to_numpy()`, respectivamente, em vez de `values`.\n",
    "\n",
    "Agora, vamos ver alguns exemplos usando esses atributos.\n",
    "\n",
    "### Obtendo o nome da série\n",
    "O array do NumPy armazenava o nome dos dados no atributo `dtype`; aqui, podemos acessá-lo diretamente:"
   ]
  },
  {
   "cell_type": "code",
   "execution_count": 18,
   "metadata": {},
   "outputs": [
    {
     "data": {
      "text/plain": [
       "'place'"
      ]
     },
     "execution_count": 18,
     "metadata": {},
     "output_type": "execute_result"
    }
   ],
   "source": [
    "lugares.name"
   ]
  },
  {
   "cell_type": "markdown",
   "metadata": {},
   "source": [
    "### Obtendo o tipo de dado\n",
    "Um objeto `Series` mantém um único tipo de dado. Aqui, ele é `'O'` para objeto."
   ]
  },
  {
   "cell_type": "code",
   "execution_count": 19,
   "metadata": {},
   "outputs": [
    {
     "data": {
      "text/plain": [
       "dtype('O')"
      ]
     },
     "execution_count": 19,
     "metadata": {},
     "output_type": "execute_result"
    }
   ],
   "source": [
    "lugares.dtype"
   ]
  },
  {
   "cell_type": "markdown",
   "metadata": {},
   "source": [
    "### Obtendo as dimensões da série\n",
    "Assim como no NumPy, podemos usar `shape` para obter as dimensões como `(linhas, colunas)`. Objetos `Series` são uma única coluna, então eles têm valores apenas para a dimensão de linhas."
   ]
  },
  {
   "cell_type": "code",
   "execution_count": 20,
   "metadata": {},
   "outputs": [
    {
     "data": {
      "text/plain": [
       "(5,)"
      ]
     },
     "execution_count": 20,
     "metadata": {},
     "output_type": "execute_result"
    }
   ],
   "source": [
    "lugares.shape"
   ]
  },
  {
   "cell_type": "markdown",
   "metadata": {},
   "source": [
    "### Isolando os valores da série\n",
    "Este objeto `Series` está armazenando seus valores como um array do NumPy:"
   ]
  },
  {
   "cell_type": "code",
   "execution_count": 21,
   "metadata": {},
   "outputs": [
    {
     "data": {
      "text/plain": [
       "array(['262km NW of Ozernovskiy, Russia', '25km E of Bitung, Indonesia',\n",
       "       '42km WNW of Sola, Vanuatu',\n",
       "       '13km E of Nueva Concepcion, Guatemala',\n",
       "       '128km SE of Kimbe, Papua New Guinea'], dtype=object)"
      ]
     },
     "execution_count": 21,
     "metadata": {},
     "output_type": "execute_result"
    }
   ],
   "source": [
    "lugares.values"
   ]
  },
  {
   "cell_type": "markdown",
   "metadata": {},
   "source": [
    "## `Index`\n",
    "A adição da classe `Index` torna a classe `Series` mais poderosa do que um array do NumPy. Podemos obter o índice a partir do atributo `index` de um objeto `Series`:"
   ]
  },
  {
   "cell_type": "code",
   "execution_count": 22,
   "metadata": {},
   "outputs": [
    {
     "data": {
      "text/plain": [
       "RangeIndex(start=0, stop=5, step=1)"
      ]
     },
     "execution_count": 22,
     "metadata": {},
     "output_type": "execute_result"
    }
   ],
   "source": [
    "place_index = lugares.index\n",
    "place_index"
   ]
  },
  {
   "cell_type": "markdown",
   "metadata": {},
   "source": [
    "Assim como nos objetos `Series`, podemos acessar os dados subjacentes através do atributo `values`. Note que este objeto `Index` também é construído sobre um array do NumPy:"
   ]
  },
  {
   "cell_type": "code",
   "execution_count": 23,
   "metadata": {},
   "outputs": [
    {
     "data": {
      "text/plain": [
       "array([0, 1, 2, 3, 4])"
      ]
     },
     "execution_count": 23,
     "metadata": {},
     "output_type": "execute_result"
    }
   ],
   "source": [
    "place_index.values"
   ]
  },
  {
   "cell_type": "markdown",
   "metadata": {},
   "source": [
    "Aqui estão alguns atributos comumente usados com objetos `Index`:\n",
    "\n",
    "| Atributo | Retorna |\n",
    "| --- | --- |\n",
    "| `name` | O nome do objeto `Index` |\n",
    "| `dtype` | O tipo de dado do objeto `Index` |\n",
    "| `shape` | Dimensões do objeto `Index` |\n",
    "| `values` | Os dados no objeto `Index` |\n",
    "| `is_unique` | Verifica se o objeto `Index` tem todos os valores únicos |\n",
    "\n",
    "Podemos verificar o tipo dos dados subjacentes, da mesma forma que com um objeto `Series`:"
   ]
  },
  {
   "cell_type": "code",
   "execution_count": 24,
   "metadata": {},
   "outputs": [
    {
     "data": {
      "text/plain": [
       "dtype('int64')"
      ]
     },
     "execution_count": 24,
     "metadata": {},
     "output_type": "execute_result"
    }
   ],
   "source": [
    "place_index.dtype"
   ]
  },
  {
   "cell_type": "markdown",
   "metadata": {},
   "source": [
    "O mesmo vale para as dimensões:"
   ]
  },
  {
   "cell_type": "code",
   "execution_count": 25,
   "metadata": {},
   "outputs": [
    {
     "data": {
      "text/plain": [
       "(5,)"
      ]
     },
     "execution_count": 25,
     "metadata": {},
     "output_type": "execute_result"
    }
   ],
   "source": [
    "place_index.shape"
   ]
  },
  {
   "cell_type": "markdown",
   "metadata": {},
   "source": [
    "Podemos verificar se os valores são únicos:"
   ]
  },
  {
   "cell_type": "code",
   "execution_count": 26,
   "metadata": {},
   "outputs": [
    {
     "data": {
      "text/plain": [
       "True"
      ]
     },
     "execution_count": 26,
     "metadata": {},
     "output_type": "execute_result"
    }
   ],
   "source": [
    "place_index.is_unique"
   ]
  },
  {
   "cell_type": "markdown",
   "metadata": {},
   "source": [
    "Com NumPy, podemos realizar operações aritméticas elemento a elemento entre arrays:"
   ]
  },
  {
   "cell_type": "code",
   "execution_count": 27,
   "metadata": {},
   "outputs": [
    {
     "data": {
      "text/plain": [
       "array([0, 1, 2])"
      ]
     },
     "execution_count": 27,
     "metadata": {},
     "output_type": "execute_result"
    }
   ],
   "source": [
    "np.array([1, 1, 1]) + np.array([-1, 0, 1])"
   ]
  },
  {
   "cell_type": "markdown",
   "metadata": {},
   "source": [
    "O Pandas também suporta isso, e o índice determina como as operações elemento a elemento são realizadas. Com a adição, apenas os índices correspondentes são somados:"
   ]
  },
  {
   "cell_type": "code",
   "execution_count": 28,
   "metadata": {},
   "outputs": [
    {
     "data": {
      "text/plain": [
       "0     NaN\n",
       "1     2.5\n",
       "2     7.5\n",
       "3    12.5\n",
       "4    17.5\n",
       "5     NaN\n",
       "dtype: float64"
      ]
     },
     "execution_count": 28,
     "metadata": {},
     "output_type": "execute_result"
    }
   ],
   "source": [
    "numbers = np.linspace(0, 10, num=5) # makes numpy array([0, 2.5, 5, 7.5, 10])\n",
    "x = pd.Series(numbers) # index is [0, 1, 2, 3, 4]\n",
    "y = pd.Series(numbers, index=pd.Index([1, 2, 3, 4, 5]))\n",
    "x + y"
   ]
  },
  {
   "cell_type": "markdown",
   "metadata": {},
   "source": [
    "## `DataFrame`\n",
    "Ter um objeto `Series` para cada coluna é uma melhoria em relação à representação do NumPy; no entanto, ainda temos o mesmo problema ao querer ordenar com base em um valor ou pegar uma linha inteira. O `DataFrame` nos dá uma representação de uma tabela formada por vários objetos `Series` que formam as colunas e um objeto `Index` compartilhado que rotula as linhas. Podemos criar um objeto `DataFrame` a partir de qualquer uma das representações do NumPy com as quais estávamos trabalhando anteriormente (também poderíamos criar um objeto `Series` para cada coluna, mas não há necessidade de fazê-lo):"
   ]
  },
  {
   "cell_type": "code",
   "execution_count": 29,
   "metadata": {},
   "outputs": [
    {
     "data": {
      "text/html": [
       "<div>\n",
       "<style scoped>\n",
       "    .dataframe tbody tr th:only-of-type {\n",
       "        vertical-align: middle;\n",
       "    }\n",
       "\n",
       "    .dataframe tbody tr th {\n",
       "        vertical-align: top;\n",
       "    }\n",
       "\n",
       "    .dataframe thead th {\n",
       "        text-align: right;\n",
       "    }\n",
       "</style>\n",
       "<table border=\"1\" class=\"dataframe\">\n",
       "  <thead>\n",
       "    <tr style=\"text-align: right;\">\n",
       "      <th></th>\n",
       "      <th>time</th>\n",
       "      <th>place</th>\n",
       "      <th>magType</th>\n",
       "      <th>mag</th>\n",
       "      <th>alert</th>\n",
       "      <th>tsunami</th>\n",
       "    </tr>\n",
       "  </thead>\n",
       "  <tbody>\n",
       "    <tr>\n",
       "      <th>0</th>\n",
       "      <td>2018-10-13 11:10:23.560</td>\n",
       "      <td>262km NW of Ozernovskiy, Russia</td>\n",
       "      <td>mww</td>\n",
       "      <td>6.7</td>\n",
       "      <td>green</td>\n",
       "      <td>1</td>\n",
       "    </tr>\n",
       "    <tr>\n",
       "      <th>1</th>\n",
       "      <td>2018-10-13 04:34:15.580</td>\n",
       "      <td>25km E of Bitung, Indonesia</td>\n",
       "      <td>mww</td>\n",
       "      <td>5.2</td>\n",
       "      <td>green</td>\n",
       "      <td>0</td>\n",
       "    </tr>\n",
       "    <tr>\n",
       "      <th>2</th>\n",
       "      <td>2018-10-13 00:13:46.220</td>\n",
       "      <td>42km WNW of Sola, Vanuatu</td>\n",
       "      <td>mww</td>\n",
       "      <td>5.7</td>\n",
       "      <td>green</td>\n",
       "      <td>0</td>\n",
       "    </tr>\n",
       "    <tr>\n",
       "      <th>3</th>\n",
       "      <td>2018-10-12 21:09:49.240</td>\n",
       "      <td>13km E of Nueva Concepcion, Guatemala</td>\n",
       "      <td>mww</td>\n",
       "      <td>5.7</td>\n",
       "      <td>green</td>\n",
       "      <td>0</td>\n",
       "    </tr>\n",
       "    <tr>\n",
       "      <th>4</th>\n",
       "      <td>2018-10-12 02:52:03.620</td>\n",
       "      <td>128km SE of Kimbe, Papua New Guinea</td>\n",
       "      <td>mww</td>\n",
       "      <td>5.6</td>\n",
       "      <td>green</td>\n",
       "      <td>1</td>\n",
       "    </tr>\n",
       "  </tbody>\n",
       "</table>\n",
       "</div>"
      ],
      "text/plain": [
       "                      time                                  place magType  \\\n",
       "0  2018-10-13 11:10:23.560        262km NW of Ozernovskiy, Russia     mww   \n",
       "1  2018-10-13 04:34:15.580            25km E of Bitung, Indonesia     mww   \n",
       "2  2018-10-13 00:13:46.220              42km WNW of Sola, Vanuatu     mww   \n",
       "3  2018-10-12 21:09:49.240  13km E of Nueva Concepcion, Guatemala     mww   \n",
       "4  2018-10-12 02:52:03.620    128km SE of Kimbe, Papua New Guinea     mww   \n",
       "\n",
       "   mag  alert  tsunami  \n",
       "0  6.7  green        1  \n",
       "1  5.2  green        0  \n",
       "2  5.7  green        0  \n",
       "3  5.7  green        0  \n",
       "4  5.6  green        1  "
      ]
     },
     "execution_count": 29,
     "metadata": {},
     "output_type": "execute_result"
    }
   ],
   "source": [
    "df = pd.DataFrame(array_dict) \n",
    "\n",
    "# this will also work with the first representation\n",
    "# df = pd.DataFrame(data)\n",
    "\n",
    "df"
   ]
  },
  {
   "cell_type": "markdown",
   "metadata": {},
   "source": [
    "Podemos verificar o tipo dos dados subjacentes com `dtypes` (observe que não é `dtype`, como nos objetos `Series` e `Index`, já que cada coluna terá seu próprio tipo de dado):"
   ]
  },
  {
   "cell_type": "code",
   "execution_count": 30,
   "metadata": {},
   "outputs": [
    {
     "data": {
      "text/plain": [
       "time        object\n",
       "place       object\n",
       "magType     object\n",
       "mag        float64\n",
       "alert       object\n",
       "tsunami      int64\n",
       "dtype: object"
      ]
     },
     "execution_count": 30,
     "metadata": {},
     "output_type": "execute_result"
    }
   ],
   "source": [
    "df.dtypes"
   ]
  },
  {
   "cell_type": "markdown",
   "metadata": {},
   "source": [
    "Podemos obter os dados subjacentes com o atributo `values`. Note que isso se parece muito com nossa representação inicial do NumPy:"
   ]
  },
  {
   "cell_type": "code",
   "execution_count": 31,
   "metadata": {},
   "outputs": [
    {
     "data": {
      "text/plain": [
       "array([['2018-10-13 11:10:23.560', '262km NW of Ozernovskiy, Russia',\n",
       "        'mww', 6.7, 'green', 1],\n",
       "       ['2018-10-13 04:34:15.580', '25km E of Bitung, Indonesia', 'mww',\n",
       "        5.2, 'green', 0],\n",
       "       ['2018-10-13 00:13:46.220', '42km WNW of Sola, Vanuatu', 'mww',\n",
       "        5.7, 'green', 0],\n",
       "       ['2018-10-12 21:09:49.240',\n",
       "        '13km E of Nueva Concepcion, Guatemala', 'mww', 5.7, 'green', 0],\n",
       "       ['2018-10-12 02:52:03.620', '128km SE of Kimbe, Papua New Guinea',\n",
       "        'mww', 5.6, 'green', 1]], dtype=object)"
      ]
     },
     "execution_count": 31,
     "metadata": {},
     "output_type": "execute_result"
    }
   ],
   "source": [
    "df.values"
   ]
  },
  {
   "cell_type": "markdown",
   "metadata": {},
   "source": [
    "Podemos isolar as colunas com o atributo `columns`. Observe que as colunas são na verdade um objeto `Index`, mas em um eixo diferente (as colunas são o índice horizontal enquanto as linhas são o índice vertical)."
   ]
  },
  {
   "cell_type": "code",
   "execution_count": 32,
   "metadata": {},
   "outputs": [
    {
     "data": {
      "text/plain": [
       "Index(['time', 'place', 'magType', 'mag', 'alert', 'tsunami'], dtype='object')"
      ]
     },
     "execution_count": 32,
     "metadata": {},
     "output_type": "execute_result"
    }
   ],
   "source": [
    "df.columns"
   ]
  },
  {
   "cell_type": "markdown",
   "metadata": {},
   "source": [
    "Aqui estão alguns atributos comumente usados:\n",
    "\n",
    "| Atributo | Retorna |\n",
    "| --- | --- |\n",
    "| `dtypes` | Os tipos de dados de cada coluna |\n",
    "| `shape` | Dimensões do objeto `DataFrame` em uma tupla na forma `(número de linhas, número de colunas)` |\n",
    "| `index` | O objeto `Index` ao longo das linhas do objeto `DataFrame` |\n",
    "| `columns` | O nome das colunas (como um objeto `Index`) |\n",
    "| `values` | Os dados no objeto `DataFrame` |\n",
    "| `empty` | Verifica se o objeto `DataFrame` está vazio |\n",
    "\n",
    "O objeto `Index` ao longo das linhas do dataframe pode ser acessado através do atributo `index` (assim como nos objetos `Series`):"
   ]
  },
  {
   "cell_type": "code",
   "execution_count": 33,
   "metadata": {},
   "outputs": [
    {
     "data": {
      "text/plain": [
       "RangeIndex(start=0, stop=5, step=1)"
      ]
     },
     "execution_count": 33,
     "metadata": {},
     "output_type": "execute_result"
    }
   ],
   "source": [
    "df.index"
   ]
  },
  {
   "cell_type": "markdown",
   "metadata": {},
   "source": [
    "Assim como nos objetos `Series` e `Index`, podemos obter as dimensões do dataframe com o atributo `shape`. O resultado é da forma `(número de linhas, número de colunas)`. Nosso dataframe tem 5 linhas e 6 colunas:"
   ]
  },
  {
   "cell_type": "code",
   "execution_count": 34,
   "metadata": {},
   "outputs": [
    {
     "data": {
      "text/plain": [
       "(5, 6)"
      ]
     },
     "execution_count": 34,
     "metadata": {},
     "output_type": "execute_result"
    }
   ],
   "source": [
    "df.shape"
   ]
  },
  {
   "cell_type": "markdown",
   "metadata": {},
   "source": [
    "Note que também podemos realizar operações aritméticas em dataframes. O Pandas realizará a operação apenas quando tanto o índice quanto a coluna coincidirem. Aqui, demonstramos a adição. Como a adição com strings significa concatenação, o Pandas concatenou as colunas de strings (`time`, `place`, `magType` e `alert`) entre os dataframes. As colunas numéricas (`mag` e `tsunami`) foram somadas:"
   ]
  },
  {
   "cell_type": "code",
   "execution_count": 35,
   "metadata": {},
   "outputs": [
    {
     "data": {
      "text/html": [
       "<div>\n",
       "<style scoped>\n",
       "    .dataframe tbody tr th:only-of-type {\n",
       "        vertical-align: middle;\n",
       "    }\n",
       "\n",
       "    .dataframe tbody tr th {\n",
       "        vertical-align: top;\n",
       "    }\n",
       "\n",
       "    .dataframe thead th {\n",
       "        text-align: right;\n",
       "    }\n",
       "</style>\n",
       "<table border=\"1\" class=\"dataframe\">\n",
       "  <thead>\n",
       "    <tr style=\"text-align: right;\">\n",
       "      <th></th>\n",
       "      <th>time</th>\n",
       "      <th>place</th>\n",
       "      <th>magType</th>\n",
       "      <th>mag</th>\n",
       "      <th>alert</th>\n",
       "      <th>tsunami</th>\n",
       "    </tr>\n",
       "  </thead>\n",
       "  <tbody>\n",
       "    <tr>\n",
       "      <th>0</th>\n",
       "      <td>2018-10-13 11:10:23.5602018-10-13 11:10:23.560</td>\n",
       "      <td>262km NW of Ozernovskiy, Russia262km NW of Oze...</td>\n",
       "      <td>mwwmww</td>\n",
       "      <td>13.4</td>\n",
       "      <td>greengreen</td>\n",
       "      <td>2</td>\n",
       "    </tr>\n",
       "    <tr>\n",
       "      <th>1</th>\n",
       "      <td>2018-10-13 04:34:15.5802018-10-13 04:34:15.580</td>\n",
       "      <td>25km E of Bitung, Indonesia25km E of Bitung, I...</td>\n",
       "      <td>mwwmww</td>\n",
       "      <td>10.4</td>\n",
       "      <td>greengreen</td>\n",
       "      <td>0</td>\n",
       "    </tr>\n",
       "    <tr>\n",
       "      <th>2</th>\n",
       "      <td>2018-10-13 00:13:46.2202018-10-13 00:13:46.220</td>\n",
       "      <td>42km WNW of Sola, Vanuatu42km WNW of Sola, Van...</td>\n",
       "      <td>mwwmww</td>\n",
       "      <td>11.4</td>\n",
       "      <td>greengreen</td>\n",
       "      <td>0</td>\n",
       "    </tr>\n",
       "    <tr>\n",
       "      <th>3</th>\n",
       "      <td>2018-10-12 21:09:49.2402018-10-12 21:09:49.240</td>\n",
       "      <td>13km E of Nueva Concepcion, Guatemala13km E of...</td>\n",
       "      <td>mwwmww</td>\n",
       "      <td>11.4</td>\n",
       "      <td>greengreen</td>\n",
       "      <td>0</td>\n",
       "    </tr>\n",
       "    <tr>\n",
       "      <th>4</th>\n",
       "      <td>2018-10-12 02:52:03.6202018-10-12 02:52:03.620</td>\n",
       "      <td>128km SE of Kimbe, Papua New Guinea128km SE of...</td>\n",
       "      <td>mwwmww</td>\n",
       "      <td>11.2</td>\n",
       "      <td>greengreen</td>\n",
       "      <td>2</td>\n",
       "    </tr>\n",
       "  </tbody>\n",
       "</table>\n",
       "</div>"
      ],
      "text/plain": [
       "                                             time  \\\n",
       "0  2018-10-13 11:10:23.5602018-10-13 11:10:23.560   \n",
       "1  2018-10-13 04:34:15.5802018-10-13 04:34:15.580   \n",
       "2  2018-10-13 00:13:46.2202018-10-13 00:13:46.220   \n",
       "3  2018-10-12 21:09:49.2402018-10-12 21:09:49.240   \n",
       "4  2018-10-12 02:52:03.6202018-10-12 02:52:03.620   \n",
       "\n",
       "                                               place magType   mag  \\\n",
       "0  262km NW of Ozernovskiy, Russia262km NW of Oze...  mwwmww  13.4   \n",
       "1  25km E of Bitung, Indonesia25km E of Bitung, I...  mwwmww  10.4   \n",
       "2  42km WNW of Sola, Vanuatu42km WNW of Sola, Van...  mwwmww  11.4   \n",
       "3  13km E of Nueva Concepcion, Guatemala13km E of...  mwwmww  11.4   \n",
       "4  128km SE of Kimbe, Papua New Guinea128km SE of...  mwwmww  11.2   \n",
       "\n",
       "        alert  tsunami  \n",
       "0  greengreen        2  \n",
       "1  greengreen        0  \n",
       "2  greengreen        0  \n",
       "3  greengreen        0  \n",
       "4  greengreen        2  "
      ]
     },
     "execution_count": 35,
     "metadata": {},
     "output_type": "execute_result"
    }
   ],
   "source": [
    "df + df"
   ]
  },
  {
   "cell_type": "markdown",
   "metadata": {},
   "source": [
    "<hr>\n",
    "<div>\n",
    "    <a href=\"../ch_01/introduction_to_data_analysis.ipynb\">\n",
    "        <button style=\"float: left;\">&#8592; Chapter 1</button>\n",
    "    </a>\n",
    "    <a href=\"./2-creating_dataframes.ipynb\">\n",
    "        <button style=\"float: right;\">Next Notebook &#8594;</button>\n",
    "    </a>\n",
    "</div>\n",
    "<br>\n",
    "<hr>"
   ]
  }
 ],
 "metadata": {
  "kernelspec": {
   "display_name": "Python 3",
   "language": "python",
   "name": "python3"
  },
  "language_info": {
   "codemirror_mode": {
    "name": "ipython",
    "version": 3
   },
   "file_extension": ".py",
   "mimetype": "text/x-python",
   "name": "python",
   "nbconvert_exporter": "python",
   "pygments_lexer": "ipython3",
   "version": "3.10.14"
  }
 },
 "nbformat": 4,
 "nbformat_minor": 4
}
